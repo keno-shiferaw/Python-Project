{
 "cells": [
  {
   "cell_type": "markdown",
   "id": "ef31d521",
   "metadata": {},
   "source": [
    "# Contents"
   ]
  },
  {
   "cell_type": "markdown",
   "id": "fc1fd073",
   "metadata": {},
   "source": [
    "### 1. Import dataframe\n",
    "### 2. Address PII data in the dataframe\n",
    "### 3. Regional segmentation\n",
    "### 4. Exclusion flag for low-activity customers\n",
    "### 5. Customer profiling\n",
    "### 6. Visualization for distribution of profiles\n",
    "### 7. Aggregation of customer profiles  \n",
    "### 8. Analysis by regions\n",
    "### 9. Visualizations"
   ]
  },
  {
   "cell_type": "code",
   "execution_count": 3,
   "id": "4e2ca711",
   "metadata": {},
   "outputs": [],
   "source": [
    "# Import libraries\n",
    "import pandas as pd\n",
    "import numpy as np\n",
    "import os\n",
    "import matplotlib.pyplot as plt\n",
    "import seaborn as sns\n",
    "import scipy"
   ]
  },
  {
   "cell_type": "code",
   "execution_count": 4,
   "id": "e367da9b",
   "metadata": {},
   "outputs": [],
   "source": [
    "path = r'C:\\Users\\kshifera\\Desktop\\CF_Course\\Immersion\\Achievement_4\\Instacart Basket Analysis'"
   ]
  },
  {
   "cell_type": "markdown",
   "id": "298e21a9",
   "metadata": {},
   "source": [
    "### 1. Import dataframe"
   ]
  },
  {
   "cell_type": "code",
   "execution_count": 5,
   "id": "db2dec2e",
   "metadata": {},
   "outputs": [],
   "source": [
    "# import dataframe\n",
    "df = pd.read_pickle(os.path.join(path, '02 Data' , 'Prepared Data' , 'df_9_1.pkl'))"
   ]
  },
  {
   "cell_type": "code",
   "execution_count": 6,
   "id": "2a4a378f",
   "metadata": {},
   "outputs": [
    {
     "data": {
      "text/html": [
       "<div>\n",
       "<style scoped>\n",
       "    .dataframe tbody tr th:only-of-type {\n",
       "        vertical-align: middle;\n",
       "    }\n",
       "\n",
       "    .dataframe tbody tr th {\n",
       "        vertical-align: top;\n",
       "    }\n",
       "\n",
       "    .dataframe thead th {\n",
       "        text-align: right;\n",
       "    }\n",
       "</style>\n",
       "<table border=\"1\" class=\"dataframe\">\n",
       "  <thead>\n",
       "    <tr style=\"text-align: right;\">\n",
       "      <th></th>\n",
       "      <th>order_id</th>\n",
       "      <th>user_id</th>\n",
       "      <th>order_number</th>\n",
       "      <th>orders_day_of_week</th>\n",
       "      <th>order_hour_of_day</th>\n",
       "      <th>days_since_prior_order</th>\n",
       "      <th>product_id</th>\n",
       "      <th>add_to_cart_order</th>\n",
       "      <th>reordered</th>\n",
       "      <th>product_name</th>\n",
       "      <th>...</th>\n",
       "      <th>frequency_flag</th>\n",
       "      <th>first_name</th>\n",
       "      <th>surname</th>\n",
       "      <th>gender</th>\n",
       "      <th>state</th>\n",
       "      <th>age</th>\n",
       "      <th>date_joined</th>\n",
       "      <th>number_of_dependents</th>\n",
       "      <th>family_status</th>\n",
       "      <th>income</th>\n",
       "    </tr>\n",
       "  </thead>\n",
       "  <tbody>\n",
       "    <tr>\n",
       "      <th>0</th>\n",
       "      <td>2539329</td>\n",
       "      <td>1</td>\n",
       "      <td>1</td>\n",
       "      <td>2</td>\n",
       "      <td>8</td>\n",
       "      <td>0.0</td>\n",
       "      <td>196</td>\n",
       "      <td>1</td>\n",
       "      <td>0</td>\n",
       "      <td>Soda</td>\n",
       "      <td>...</td>\n",
       "      <td>Regular customer</td>\n",
       "      <td>Linda</td>\n",
       "      <td>Nguyen</td>\n",
       "      <td>Female</td>\n",
       "      <td>Alabama</td>\n",
       "      <td>31</td>\n",
       "      <td>2/17/2019</td>\n",
       "      <td>3</td>\n",
       "      <td>married</td>\n",
       "      <td>40423</td>\n",
       "    </tr>\n",
       "    <tr>\n",
       "      <th>1</th>\n",
       "      <td>2398795</td>\n",
       "      <td>1</td>\n",
       "      <td>2</td>\n",
       "      <td>3</td>\n",
       "      <td>7</td>\n",
       "      <td>15.0</td>\n",
       "      <td>196</td>\n",
       "      <td>1</td>\n",
       "      <td>1</td>\n",
       "      <td>Soda</td>\n",
       "      <td>...</td>\n",
       "      <td>Regular customer</td>\n",
       "      <td>Linda</td>\n",
       "      <td>Nguyen</td>\n",
       "      <td>Female</td>\n",
       "      <td>Alabama</td>\n",
       "      <td>31</td>\n",
       "      <td>2/17/2019</td>\n",
       "      <td>3</td>\n",
       "      <td>married</td>\n",
       "      <td>40423</td>\n",
       "    </tr>\n",
       "    <tr>\n",
       "      <th>2</th>\n",
       "      <td>473747</td>\n",
       "      <td>1</td>\n",
       "      <td>3</td>\n",
       "      <td>3</td>\n",
       "      <td>12</td>\n",
       "      <td>21.0</td>\n",
       "      <td>196</td>\n",
       "      <td>1</td>\n",
       "      <td>1</td>\n",
       "      <td>Soda</td>\n",
       "      <td>...</td>\n",
       "      <td>Regular customer</td>\n",
       "      <td>Linda</td>\n",
       "      <td>Nguyen</td>\n",
       "      <td>Female</td>\n",
       "      <td>Alabama</td>\n",
       "      <td>31</td>\n",
       "      <td>2/17/2019</td>\n",
       "      <td>3</td>\n",
       "      <td>married</td>\n",
       "      <td>40423</td>\n",
       "    </tr>\n",
       "    <tr>\n",
       "      <th>3</th>\n",
       "      <td>2254736</td>\n",
       "      <td>1</td>\n",
       "      <td>4</td>\n",
       "      <td>4</td>\n",
       "      <td>7</td>\n",
       "      <td>29.0</td>\n",
       "      <td>196</td>\n",
       "      <td>1</td>\n",
       "      <td>1</td>\n",
       "      <td>Soda</td>\n",
       "      <td>...</td>\n",
       "      <td>Regular customer</td>\n",
       "      <td>Linda</td>\n",
       "      <td>Nguyen</td>\n",
       "      <td>Female</td>\n",
       "      <td>Alabama</td>\n",
       "      <td>31</td>\n",
       "      <td>2/17/2019</td>\n",
       "      <td>3</td>\n",
       "      <td>married</td>\n",
       "      <td>40423</td>\n",
       "    </tr>\n",
       "    <tr>\n",
       "      <th>4</th>\n",
       "      <td>431534</td>\n",
       "      <td>1</td>\n",
       "      <td>5</td>\n",
       "      <td>4</td>\n",
       "      <td>15</td>\n",
       "      <td>28.0</td>\n",
       "      <td>196</td>\n",
       "      <td>1</td>\n",
       "      <td>1</td>\n",
       "      <td>Soda</td>\n",
       "      <td>...</td>\n",
       "      <td>Regular customer</td>\n",
       "      <td>Linda</td>\n",
       "      <td>Nguyen</td>\n",
       "      <td>Female</td>\n",
       "      <td>Alabama</td>\n",
       "      <td>31</td>\n",
       "      <td>2/17/2019</td>\n",
       "      <td>3</td>\n",
       "      <td>married</td>\n",
       "      <td>40423</td>\n",
       "    </tr>\n",
       "  </tbody>\n",
       "</table>\n",
       "<p>5 rows × 33 columns</p>\n",
       "</div>"
      ],
      "text/plain": [
       "   order_id  user_id  order_number  orders_day_of_week  order_hour_of_day  \\\n",
       "0   2539329        1             1                   2                  8   \n",
       "1   2398795        1             2                   3                  7   \n",
       "2    473747        1             3                   3                 12   \n",
       "3   2254736        1             4                   4                  7   \n",
       "4    431534        1             5                   4                 15   \n",
       "\n",
       "   days_since_prior_order  product_id  add_to_cart_order  reordered  \\\n",
       "0                     0.0         196                  1          0   \n",
       "1                    15.0         196                  1          1   \n",
       "2                    21.0         196                  1          1   \n",
       "3                    29.0         196                  1          1   \n",
       "4                    28.0         196                  1          1   \n",
       "\n",
       "  product_name  ...    frequency_flag  first_name  surname  gender    state  \\\n",
       "0         Soda  ...  Regular customer       Linda   Nguyen  Female  Alabama   \n",
       "1         Soda  ...  Regular customer       Linda   Nguyen  Female  Alabama   \n",
       "2         Soda  ...  Regular customer       Linda   Nguyen  Female  Alabama   \n",
       "3         Soda  ...  Regular customer       Linda   Nguyen  Female  Alabama   \n",
       "4         Soda  ...  Regular customer       Linda   Nguyen  Female  Alabama   \n",
       "\n",
       "  age date_joined number_of_dependents  family_status income  \n",
       "0  31   2/17/2019                    3        married  40423  \n",
       "1  31   2/17/2019                    3        married  40423  \n",
       "2  31   2/17/2019                    3        married  40423  \n",
       "3  31   2/17/2019                    3        married  40423  \n",
       "4  31   2/17/2019                    3        married  40423  \n",
       "\n",
       "[5 rows x 33 columns]"
      ]
     },
     "execution_count": 6,
     "metadata": {},
     "output_type": "execute_result"
    }
   ],
   "source": [
    "# check\n",
    "df.head()"
   ]
  },
  {
   "cell_type": "code",
   "execution_count": 7,
   "id": "544094c9",
   "metadata": {},
   "outputs": [
    {
     "data": {
      "text/plain": [
       "(32404859, 33)"
      ]
     },
     "execution_count": 7,
     "metadata": {},
     "output_type": "execute_result"
    }
   ],
   "source": [
    "# check\n",
    "df.shape"
   ]
  },
  {
   "cell_type": "markdown",
   "id": "fe61c3a8",
   "metadata": {},
   "source": [
    "### 2. Address PII data in the dataframe"
   ]
  },
  {
   "cell_type": "markdown",
   "id": "7f3ee218",
   "metadata": {},
   "source": [
    "   #### The dataframe contains what are usually termed as PII data which can be traced back to a particular person. From these dataframe, columns containing customer's first_name and surname have been excluded to ensure data privacy."
   ]
  },
  {
   "cell_type": "code",
   "execution_count": 8,
   "id": "19b17418",
   "metadata": {},
   "outputs": [],
   "source": [
    "# drop columns 'first_name' & 'surname'\n",
    "df = df.drop(columns = ['first_name', 'surname'])"
   ]
  },
  {
   "cell_type": "code",
   "execution_count": 9,
   "id": "ad3e529b",
   "metadata": {},
   "outputs": [
    {
     "data": {
      "text/plain": [
       "(32404859, 31)"
      ]
     },
     "execution_count": 9,
     "metadata": {},
     "output_type": "execute_result"
    }
   ],
   "source": [
    "# check\n",
    "df.shape"
   ]
  },
  {
   "cell_type": "markdown",
   "id": "e6148882",
   "metadata": {},
   "source": [
    "### 3. Regional segmentation"
   ]
  },
  {
   "cell_type": "markdown",
   "id": "34acc32e",
   "metadata": {},
   "source": [
    "#### 3.1 Create region column"
   ]
  },
  {
   "cell_type": "code",
   "execution_count": 10,
   "id": "bf3aa9eb",
   "metadata": {},
   "outputs": [],
   "source": [
    "# create a 'region' column based on 'state' column\n",
    "result = []\n",
    "\n",
    "for value in df[\"state\"]:\n",
    "    if value in ['Maine', 'New Hampshire' , 'Vermont' , 'Massachusetts' , 'Rhode Island' , 'Connecticut' , 'New York' , 'Pennsylvania' , 'New Jersey']:\n",
    "        result.append(\"Northeast\")\n",
    "    elif value in ['Wisconsin' , 'Michigan' , 'Illinois' , 'Indiana' , 'Ohio' , 'North Dakota' , 'South Dakota' , 'Nebraska' , 'Kansas' , 'Minnesota' , 'Iowa' , 'Missouri']:\n",
    "        result.append(\"Midwest\")\n",
    "    elif value in ['Delaware' , 'Maryland' , 'District of Columbia' , 'Virginia' , 'West Virginia' , 'North Carolina' , 'South Carolina' , 'Georgia' , 'Florida' , 'Kentucky' , 'Tennessee' , 'Mississippi' , 'Alabama' , 'Oklahoma' , 'Texas' , 'Arkansas' , 'Louisiana']:\n",
    "        result.append(\"South\")\n",
    "    else:\n",
    "        result.append(\"West\")\n"
   ]
  },
  {
   "cell_type": "code",
   "execution_count": 11,
   "id": "a40d592f",
   "metadata": {},
   "outputs": [],
   "source": [
    "df['region'] = result"
   ]
  },
  {
   "cell_type": "code",
   "execution_count": 12,
   "id": "b7b50285",
   "metadata": {},
   "outputs": [
    {
     "data": {
      "text/html": [
       "<div>\n",
       "<style scoped>\n",
       "    .dataframe tbody tr th:only-of-type {\n",
       "        vertical-align: middle;\n",
       "    }\n",
       "\n",
       "    .dataframe tbody tr th {\n",
       "        vertical-align: top;\n",
       "    }\n",
       "\n",
       "    .dataframe thead th {\n",
       "        text-align: right;\n",
       "    }\n",
       "</style>\n",
       "<table border=\"1\" class=\"dataframe\">\n",
       "  <thead>\n",
       "    <tr style=\"text-align: right;\">\n",
       "      <th></th>\n",
       "      <th>order_id</th>\n",
       "      <th>user_id</th>\n",
       "      <th>order_number</th>\n",
       "      <th>orders_day_of_week</th>\n",
       "      <th>order_hour_of_day</th>\n",
       "      <th>days_since_prior_order</th>\n",
       "      <th>product_id</th>\n",
       "      <th>add_to_cart_order</th>\n",
       "      <th>reordered</th>\n",
       "      <th>product_name</th>\n",
       "      <th>...</th>\n",
       "      <th>median_order</th>\n",
       "      <th>frequency_flag</th>\n",
       "      <th>gender</th>\n",
       "      <th>state</th>\n",
       "      <th>age</th>\n",
       "      <th>date_joined</th>\n",
       "      <th>number_of_dependents</th>\n",
       "      <th>family_status</th>\n",
       "      <th>income</th>\n",
       "      <th>region</th>\n",
       "    </tr>\n",
       "  </thead>\n",
       "  <tbody>\n",
       "    <tr>\n",
       "      <th>0</th>\n",
       "      <td>2539329</td>\n",
       "      <td>1</td>\n",
       "      <td>1</td>\n",
       "      <td>2</td>\n",
       "      <td>8</td>\n",
       "      <td>0.0</td>\n",
       "      <td>196</td>\n",
       "      <td>1</td>\n",
       "      <td>0</td>\n",
       "      <td>Soda</td>\n",
       "      <td>...</td>\n",
       "      <td>20.0</td>\n",
       "      <td>Regular customer</td>\n",
       "      <td>Female</td>\n",
       "      <td>Alabama</td>\n",
       "      <td>31</td>\n",
       "      <td>2/17/2019</td>\n",
       "      <td>3</td>\n",
       "      <td>married</td>\n",
       "      <td>40423</td>\n",
       "      <td>South</td>\n",
       "    </tr>\n",
       "    <tr>\n",
       "      <th>1</th>\n",
       "      <td>2398795</td>\n",
       "      <td>1</td>\n",
       "      <td>2</td>\n",
       "      <td>3</td>\n",
       "      <td>7</td>\n",
       "      <td>15.0</td>\n",
       "      <td>196</td>\n",
       "      <td>1</td>\n",
       "      <td>1</td>\n",
       "      <td>Soda</td>\n",
       "      <td>...</td>\n",
       "      <td>20.0</td>\n",
       "      <td>Regular customer</td>\n",
       "      <td>Female</td>\n",
       "      <td>Alabama</td>\n",
       "      <td>31</td>\n",
       "      <td>2/17/2019</td>\n",
       "      <td>3</td>\n",
       "      <td>married</td>\n",
       "      <td>40423</td>\n",
       "      <td>South</td>\n",
       "    </tr>\n",
       "    <tr>\n",
       "      <th>2</th>\n",
       "      <td>473747</td>\n",
       "      <td>1</td>\n",
       "      <td>3</td>\n",
       "      <td>3</td>\n",
       "      <td>12</td>\n",
       "      <td>21.0</td>\n",
       "      <td>196</td>\n",
       "      <td>1</td>\n",
       "      <td>1</td>\n",
       "      <td>Soda</td>\n",
       "      <td>...</td>\n",
       "      <td>20.0</td>\n",
       "      <td>Regular customer</td>\n",
       "      <td>Female</td>\n",
       "      <td>Alabama</td>\n",
       "      <td>31</td>\n",
       "      <td>2/17/2019</td>\n",
       "      <td>3</td>\n",
       "      <td>married</td>\n",
       "      <td>40423</td>\n",
       "      <td>South</td>\n",
       "    </tr>\n",
       "    <tr>\n",
       "      <th>3</th>\n",
       "      <td>2254736</td>\n",
       "      <td>1</td>\n",
       "      <td>4</td>\n",
       "      <td>4</td>\n",
       "      <td>7</td>\n",
       "      <td>29.0</td>\n",
       "      <td>196</td>\n",
       "      <td>1</td>\n",
       "      <td>1</td>\n",
       "      <td>Soda</td>\n",
       "      <td>...</td>\n",
       "      <td>20.0</td>\n",
       "      <td>Regular customer</td>\n",
       "      <td>Female</td>\n",
       "      <td>Alabama</td>\n",
       "      <td>31</td>\n",
       "      <td>2/17/2019</td>\n",
       "      <td>3</td>\n",
       "      <td>married</td>\n",
       "      <td>40423</td>\n",
       "      <td>South</td>\n",
       "    </tr>\n",
       "    <tr>\n",
       "      <th>4</th>\n",
       "      <td>431534</td>\n",
       "      <td>1</td>\n",
       "      <td>5</td>\n",
       "      <td>4</td>\n",
       "      <td>15</td>\n",
       "      <td>28.0</td>\n",
       "      <td>196</td>\n",
       "      <td>1</td>\n",
       "      <td>1</td>\n",
       "      <td>Soda</td>\n",
       "      <td>...</td>\n",
       "      <td>20.0</td>\n",
       "      <td>Regular customer</td>\n",
       "      <td>Female</td>\n",
       "      <td>Alabama</td>\n",
       "      <td>31</td>\n",
       "      <td>2/17/2019</td>\n",
       "      <td>3</td>\n",
       "      <td>married</td>\n",
       "      <td>40423</td>\n",
       "      <td>South</td>\n",
       "    </tr>\n",
       "  </tbody>\n",
       "</table>\n",
       "<p>5 rows × 32 columns</p>\n",
       "</div>"
      ],
      "text/plain": [
       "   order_id  user_id  order_number  orders_day_of_week  order_hour_of_day  \\\n",
       "0   2539329        1             1                   2                  8   \n",
       "1   2398795        1             2                   3                  7   \n",
       "2    473747        1             3                   3                 12   \n",
       "3   2254736        1             4                   4                  7   \n",
       "4    431534        1             5                   4                 15   \n",
       "\n",
       "   days_since_prior_order  product_id  add_to_cart_order  reordered  \\\n",
       "0                     0.0         196                  1          0   \n",
       "1                    15.0         196                  1          1   \n",
       "2                    21.0         196                  1          1   \n",
       "3                    29.0         196                  1          1   \n",
       "4                    28.0         196                  1          1   \n",
       "\n",
       "  product_name  ...  median_order    frequency_flag  gender    state age  \\\n",
       "0         Soda  ...          20.0  Regular customer  Female  Alabama  31   \n",
       "1         Soda  ...          20.0  Regular customer  Female  Alabama  31   \n",
       "2         Soda  ...          20.0  Regular customer  Female  Alabama  31   \n",
       "3         Soda  ...          20.0  Regular customer  Female  Alabama  31   \n",
       "4         Soda  ...          20.0  Regular customer  Female  Alabama  31   \n",
       "\n",
       "  date_joined number_of_dependents family_status  income region  \n",
       "0   2/17/2019                    3       married   40423  South  \n",
       "1   2/17/2019                    3       married   40423  South  \n",
       "2   2/17/2019                    3       married   40423  South  \n",
       "3   2/17/2019                    3       married   40423  South  \n",
       "4   2/17/2019                    3       married   40423  South  \n",
       "\n",
       "[5 rows x 32 columns]"
      ]
     },
     "execution_count": 12,
     "metadata": {},
     "output_type": "execute_result"
    }
   ],
   "source": [
    "# check\n",
    "df.head()"
   ]
  },
  {
   "cell_type": "markdown",
   "id": "3c8b1346",
   "metadata": {},
   "source": [
    "#### 3.2 Spending habits across the regions"
   ]
  },
  {
   "cell_type": "code",
   "execution_count": 13,
   "id": "ede11645",
   "metadata": {},
   "outputs": [],
   "source": [
    "# we create a table that holds the absolute numbers of customers in each region \n",
    "crosstab = pd.crosstab(df['region'], df['spending_flag'], dropna = False)"
   ]
  },
  {
   "cell_type": "code",
   "execution_count": 14,
   "id": "9b8ae383",
   "metadata": {},
   "outputs": [
    {
     "data": {
      "text/html": [
       "<div>\n",
       "<style scoped>\n",
       "    .dataframe tbody tr th:only-of-type {\n",
       "        vertical-align: middle;\n",
       "    }\n",
       "\n",
       "    .dataframe tbody tr th {\n",
       "        vertical-align: top;\n",
       "    }\n",
       "\n",
       "    .dataframe thead th {\n",
       "        text-align: right;\n",
       "    }\n",
       "</style>\n",
       "<table border=\"1\" class=\"dataframe\">\n",
       "  <thead>\n",
       "    <tr style=\"text-align: right;\">\n",
       "      <th>spending_flag</th>\n",
       "      <th>High spender</th>\n",
       "      <th>Low spender</th>\n",
       "    </tr>\n",
       "    <tr>\n",
       "      <th>region</th>\n",
       "      <th></th>\n",
       "      <th></th>\n",
       "    </tr>\n",
       "  </thead>\n",
       "  <tbody>\n",
       "    <tr>\n",
       "      <th>Midwest</th>\n",
       "      <td>155975</td>\n",
       "      <td>7441350</td>\n",
       "    </tr>\n",
       "    <tr>\n",
       "      <th>Northeast</th>\n",
       "      <td>108225</td>\n",
       "      <td>5614511</td>\n",
       "    </tr>\n",
       "    <tr>\n",
       "      <th>South</th>\n",
       "      <td>209691</td>\n",
       "      <td>10582194</td>\n",
       "    </tr>\n",
       "    <tr>\n",
       "      <th>West</th>\n",
       "      <td>160354</td>\n",
       "      <td>8132559</td>\n",
       "    </tr>\n",
       "  </tbody>\n",
       "</table>\n",
       "</div>"
      ],
      "text/plain": [
       "spending_flag  High spender  Low spender\n",
       "region                                  \n",
       "Midwest              155975      7441350\n",
       "Northeast            108225      5614511\n",
       "South                209691     10582194\n",
       "West                 160354      8132559"
      ]
     },
     "execution_count": 14,
     "metadata": {},
     "output_type": "execute_result"
    }
   ],
   "source": [
    "crosstab"
   ]
  },
  {
   "cell_type": "code",
   "execution_count": 15,
   "id": "2a489bc0",
   "metadata": {},
   "outputs": [],
   "source": [
    "# crosstab that displays spending habit as percentage of region total\n",
    "crosstab_regional = pd.crosstab(df['region'], df['spending_flag'], normalize = 'index')"
   ]
  },
  {
   "cell_type": "code",
   "execution_count": 16,
   "id": "ea758aa5",
   "metadata": {},
   "outputs": [
    {
     "data": {
      "text/html": [
       "<div>\n",
       "<style scoped>\n",
       "    .dataframe tbody tr th:only-of-type {\n",
       "        vertical-align: middle;\n",
       "    }\n",
       "\n",
       "    .dataframe tbody tr th {\n",
       "        vertical-align: top;\n",
       "    }\n",
       "\n",
       "    .dataframe thead th {\n",
       "        text-align: right;\n",
       "    }\n",
       "</style>\n",
       "<table border=\"1\" class=\"dataframe\">\n",
       "  <thead>\n",
       "    <tr style=\"text-align: right;\">\n",
       "      <th>spending_flag</th>\n",
       "      <th>High spender</th>\n",
       "      <th>Low spender</th>\n",
       "    </tr>\n",
       "    <tr>\n",
       "      <th>region</th>\n",
       "      <th></th>\n",
       "      <th></th>\n",
       "    </tr>\n",
       "  </thead>\n",
       "  <tbody>\n",
       "    <tr>\n",
       "      <th>Midwest</th>\n",
       "      <td>0.020530</td>\n",
       "      <td>0.979470</td>\n",
       "    </tr>\n",
       "    <tr>\n",
       "      <th>Northeast</th>\n",
       "      <td>0.018911</td>\n",
       "      <td>0.981089</td>\n",
       "    </tr>\n",
       "    <tr>\n",
       "      <th>South</th>\n",
       "      <td>0.019430</td>\n",
       "      <td>0.980570</td>\n",
       "    </tr>\n",
       "    <tr>\n",
       "      <th>West</th>\n",
       "      <td>0.019336</td>\n",
       "      <td>0.980664</td>\n",
       "    </tr>\n",
       "  </tbody>\n",
       "</table>\n",
       "</div>"
      ],
      "text/plain": [
       "spending_flag  High spender  Low spender\n",
       "region                                  \n",
       "Midwest            0.020530     0.979470\n",
       "Northeast          0.018911     0.981089\n",
       "South              0.019430     0.980570\n",
       "West               0.019336     0.980664"
      ]
     },
     "execution_count": 16,
     "metadata": {},
     "output_type": "execute_result"
    }
   ],
   "source": [
    "crosstab_regional"
   ]
  },
  {
   "cell_type": "code",
   "execution_count": 17,
   "id": "d6d9447b",
   "metadata": {},
   "outputs": [],
   "source": [
    "#crosstab that displays proportion of spending  habit of each spender as percentage of total spending habit at Instacart\n",
    "crosstab_spenders = pd.crosstab(df['region'], df['spending_flag'], normalize = 'columns')"
   ]
  },
  {
   "cell_type": "code",
   "execution_count": 18,
   "id": "1832c3fd",
   "metadata": {},
   "outputs": [
    {
     "data": {
      "text/html": [
       "<div>\n",
       "<style scoped>\n",
       "    .dataframe tbody tr th:only-of-type {\n",
       "        vertical-align: middle;\n",
       "    }\n",
       "\n",
       "    .dataframe tbody tr th {\n",
       "        vertical-align: top;\n",
       "    }\n",
       "\n",
       "    .dataframe thead th {\n",
       "        text-align: right;\n",
       "    }\n",
       "</style>\n",
       "<table border=\"1\" class=\"dataframe\">\n",
       "  <thead>\n",
       "    <tr style=\"text-align: right;\">\n",
       "      <th>spending_flag</th>\n",
       "      <th>High spender</th>\n",
       "      <th>Low spender</th>\n",
       "    </tr>\n",
       "    <tr>\n",
       "      <th>region</th>\n",
       "      <th></th>\n",
       "      <th></th>\n",
       "    </tr>\n",
       "  </thead>\n",
       "  <tbody>\n",
       "    <tr>\n",
       "      <th>Midwest</th>\n",
       "      <td>0.245922</td>\n",
       "      <td>0.234221</td>\n",
       "    </tr>\n",
       "    <tr>\n",
       "      <th>Northeast</th>\n",
       "      <td>0.170636</td>\n",
       "      <td>0.176720</td>\n",
       "    </tr>\n",
       "    <tr>\n",
       "      <th>South</th>\n",
       "      <td>0.330615</td>\n",
       "      <td>0.333081</td>\n",
       "    </tr>\n",
       "    <tr>\n",
       "      <th>West</th>\n",
       "      <td>0.252827</td>\n",
       "      <td>0.255977</td>\n",
       "    </tr>\n",
       "  </tbody>\n",
       "</table>\n",
       "</div>"
      ],
      "text/plain": [
       "spending_flag  High spender  Low spender\n",
       "region                                  \n",
       "Midwest            0.245922     0.234221\n",
       "Northeast          0.170636     0.176720\n",
       "South              0.330615     0.333081\n",
       "West               0.252827     0.255977"
      ]
     },
     "execution_count": 18,
     "metadata": {},
     "output_type": "execute_result"
    }
   ],
   "source": [
    "crosstab_spenders"
   ]
  },
  {
   "cell_type": "markdown",
   "id": "8c3a9fcb",
   "metadata": {},
   "source": [
    "The result indicate that while the proportion of high spenders to low spenders in each region is roughly the same, 98% to 2%, there are differences in the regional proportion as of the total when viewed for each category of spending. 33 % of the high spenders are in the South region, with West, Midwest and Northeast taking the next spots in that order. The same pattern holds for the low spending category as well. "
   ]
  },
  {
   "cell_type": "markdown",
   "id": "40aa8b51",
   "metadata": {},
   "source": [
    "#### 3.3. distribution of brand loyalty"
   ]
  },
  {
   "cell_type": "code",
   "execution_count": 19,
   "id": "74d8e039",
   "metadata": {},
   "outputs": [
    {
     "data": {
      "text/html": [
       "<div>\n",
       "<style scoped>\n",
       "    .dataframe tbody tr th:only-of-type {\n",
       "        vertical-align: middle;\n",
       "    }\n",
       "\n",
       "    .dataframe tbody tr th {\n",
       "        vertical-align: top;\n",
       "    }\n",
       "\n",
       "    .dataframe thead th {\n",
       "        text-align: right;\n",
       "    }\n",
       "</style>\n",
       "<table border=\"1\" class=\"dataframe\">\n",
       "  <thead>\n",
       "    <tr style=\"text-align: right;\">\n",
       "      <th>loyalty_flag</th>\n",
       "      <th>Loyal customer</th>\n",
       "      <th>New customer</th>\n",
       "      <th>Regular customer</th>\n",
       "    </tr>\n",
       "    <tr>\n",
       "      <th>region</th>\n",
       "      <th></th>\n",
       "      <th></th>\n",
       "      <th></th>\n",
       "    </tr>\n",
       "  </thead>\n",
       "  <tbody>\n",
       "    <tr>\n",
       "      <th>Midwest</th>\n",
       "      <td>0.230820</td>\n",
       "      <td>0.235838</td>\n",
       "      <td>0.236256</td>\n",
       "    </tr>\n",
       "    <tr>\n",
       "      <th>Northeast</th>\n",
       "      <td>0.179091</td>\n",
       "      <td>0.176203</td>\n",
       "      <td>0.175145</td>\n",
       "    </tr>\n",
       "    <tr>\n",
       "      <th>South</th>\n",
       "      <td>0.331176</td>\n",
       "      <td>0.332225</td>\n",
       "      <td>0.334554</td>\n",
       "    </tr>\n",
       "    <tr>\n",
       "      <th>West</th>\n",
       "      <td>0.258913</td>\n",
       "      <td>0.255734</td>\n",
       "      <td>0.254045</td>\n",
       "    </tr>\n",
       "  </tbody>\n",
       "</table>\n",
       "</div>"
      ],
      "text/plain": [
       "loyalty_flag  Loyal customer  New customer  Regular customer\n",
       "region                                                      \n",
       "Midwest             0.230820      0.235838          0.236256\n",
       "Northeast           0.179091      0.176203          0.175145\n",
       "South               0.331176      0.332225          0.334554\n",
       "West                0.258913      0.255734          0.254045"
      ]
     },
     "execution_count": 19,
     "metadata": {},
     "output_type": "execute_result"
    }
   ],
   "source": [
    "# brand loyalty across regions\n",
    "loy_reg = pd.crosstab(df['region'], df['loyalty_flag'], normalize = 'columns')\n",
    "loy_reg"
   ]
  },
  {
   "cell_type": "markdown",
   "id": "70d0189a",
   "metadata": {},
   "source": [
    "### 4. Exclusion flag for low-activity customers"
   ]
  },
  {
   "cell_type": "code",
   "execution_count": 20,
   "id": "5301160a",
   "metadata": {},
   "outputs": [],
   "source": [
    "# Add a column holding exclusion flag\n",
    "df.loc[df['order_number'] >= 5, 'exclusion_flag'] = 'high activity'"
   ]
  },
  {
   "cell_type": "code",
   "execution_count": 21,
   "id": "ad3d1a42",
   "metadata": {},
   "outputs": [],
   "source": [
    "df.loc[df['order_number'] < 5, 'exclusion_flag'] = 'low activity'"
   ]
  },
  {
   "cell_type": "code",
   "execution_count": 22,
   "id": "1712790f",
   "metadata": {},
   "outputs": [
    {
     "data": {
      "text/plain": [
       "exclusion_flag\n",
       "high activity    24414877\n",
       "low activity      7989982\n",
       "Name: count, dtype: int64"
      ]
     },
     "execution_count": 22,
     "metadata": {},
     "output_type": "execute_result"
    }
   ],
   "source": [
    "# frequency check\n",
    "df['exclusion_flag'].value_counts(dropna = False)"
   ]
  },
  {
   "cell_type": "markdown",
   "id": "e469cf49",
   "metadata": {},
   "source": [
    "#### 4.1. ordering habits based on region"
   ]
  },
  {
   "cell_type": "code",
   "execution_count": 23,
   "id": "fbcbbf76",
   "metadata": {
    "scrolled": true
   },
   "outputs": [
    {
     "data": {
      "text/html": [
       "<div>\n",
       "<style scoped>\n",
       "    .dataframe tbody tr th:only-of-type {\n",
       "        vertical-align: middle;\n",
       "    }\n",
       "\n",
       "    .dataframe tbody tr th {\n",
       "        vertical-align: top;\n",
       "    }\n",
       "\n",
       "    .dataframe thead th {\n",
       "        text-align: right;\n",
       "    }\n",
       "</style>\n",
       "<table border=\"1\" class=\"dataframe\">\n",
       "  <thead>\n",
       "    <tr style=\"text-align: right;\">\n",
       "      <th>exclusion_flag</th>\n",
       "      <th>high activity</th>\n",
       "      <th>low activity</th>\n",
       "    </tr>\n",
       "    <tr>\n",
       "      <th>region</th>\n",
       "      <th></th>\n",
       "      <th></th>\n",
       "    </tr>\n",
       "  </thead>\n",
       "  <tbody>\n",
       "    <tr>\n",
       "      <th>Midwest</th>\n",
       "      <td>0.751811</td>\n",
       "      <td>0.248189</td>\n",
       "    </tr>\n",
       "    <tr>\n",
       "      <th>Northeast</th>\n",
       "      <td>0.754057</td>\n",
       "      <td>0.245943</td>\n",
       "    </tr>\n",
       "    <tr>\n",
       "      <th>South</th>\n",
       "      <td>0.753259</td>\n",
       "      <td>0.246741</td>\n",
       "    </tr>\n",
       "    <tr>\n",
       "      <th>West</th>\n",
       "      <td>0.754712</td>\n",
       "      <td>0.245288</td>\n",
       "    </tr>\n",
       "  </tbody>\n",
       "</table>\n",
       "</div>"
      ],
      "text/plain": [
       "exclusion_flag  high activity  low activity\n",
       "region                                     \n",
       "Midwest              0.751811      0.248189\n",
       "Northeast            0.754057      0.245943\n",
       "South                0.753259      0.246741\n",
       "West                 0.754712      0.245288"
      ]
     },
     "execution_count": 23,
     "metadata": {},
     "output_type": "execute_result"
    }
   ],
   "source": [
    "# activity by region\n",
    "ord_reg = pd.crosstab(df['region'], df['exclusion_flag'], normalize = 'index')\n",
    "ord_reg"
   ]
  },
  {
   "cell_type": "markdown",
   "id": "e7c058ca",
   "metadata": {},
   "source": [
    "Irrespective of region, 3 in 4 customers order atleast 5 times "
   ]
  },
  {
   "cell_type": "markdown",
   "id": "0256ac98",
   "metadata": {},
   "source": [
    "#### 4.2. ordering habits based on loyalty"
   ]
  },
  {
   "cell_type": "code",
   "execution_count": 24,
   "id": "6777afef",
   "metadata": {},
   "outputs": [
    {
     "data": {
      "text/html": [
       "<div>\n",
       "<style scoped>\n",
       "    .dataframe tbody tr th:only-of-type {\n",
       "        vertical-align: middle;\n",
       "    }\n",
       "\n",
       "    .dataframe tbody tr th {\n",
       "        vertical-align: top;\n",
       "    }\n",
       "\n",
       "    .dataframe thead th {\n",
       "        text-align: right;\n",
       "    }\n",
       "</style>\n",
       "<table border=\"1\" class=\"dataframe\">\n",
       "  <thead>\n",
       "    <tr style=\"text-align: right;\">\n",
       "      <th>exclusion_flag</th>\n",
       "      <th>high activity</th>\n",
       "      <th>low activity</th>\n",
       "    </tr>\n",
       "    <tr>\n",
       "      <th>loyalty_flag</th>\n",
       "      <th></th>\n",
       "      <th></th>\n",
       "    </tr>\n",
       "  </thead>\n",
       "  <tbody>\n",
       "    <tr>\n",
       "      <th>Loyal customer</th>\n",
       "      <td>0.929153</td>\n",
       "      <td>0.070847</td>\n",
       "    </tr>\n",
       "    <tr>\n",
       "      <th>New customer</th>\n",
       "      <td>0.338698</td>\n",
       "      <td>0.661302</td>\n",
       "    </tr>\n",
       "    <tr>\n",
       "      <th>Regular customer</th>\n",
       "      <td>0.802717</td>\n",
       "      <td>0.197283</td>\n",
       "    </tr>\n",
       "  </tbody>\n",
       "</table>\n",
       "</div>"
      ],
      "text/plain": [
       "exclusion_flag    high activity  low activity\n",
       "loyalty_flag                                 \n",
       "Loyal customer         0.929153      0.070847\n",
       "New customer           0.338698      0.661302\n",
       "Regular customer       0.802717      0.197283"
      ]
     },
     "execution_count": 24,
     "metadata": {},
     "output_type": "execute_result"
    }
   ],
   "source": [
    "# ordering habit and loyalty\n",
    "ord_hab = pd.crosstab(df['loyalty_flag'], df['exclusion_flag'], normalize = 'index')\n",
    "ord_hab"
   ]
  },
  {
   "cell_type": "markdown",
   "id": "796d1c13",
   "metadata": {},
   "source": [
    " The vast majority of loyal customers or regular customers are high activity customers, while it is, understandably (given that they are new) the opposite for the new customers"
   ]
  },
  {
   "cell_type": "code",
   "execution_count": 25,
   "id": "5729db67",
   "metadata": {},
   "outputs": [],
   "source": [
    "# dataframe with 'high activity' customers\n",
    "df_2 = df[df['exclusion_flag'] =='high activity']"
   ]
  },
  {
   "cell_type": "code",
   "execution_count": 26,
   "id": "03904b57",
   "metadata": {},
   "outputs": [
    {
     "data": {
      "text/plain": [
       "(24414877, 33)"
      ]
     },
     "execution_count": 26,
     "metadata": {},
     "output_type": "execute_result"
    }
   ],
   "source": [
    "df_2.shape"
   ]
  },
  {
   "cell_type": "code",
   "execution_count": 30,
   "id": "41c7a429",
   "metadata": {},
   "outputs": [],
   "source": [
    "# export this dataframe for the next part of the script\n",
    "df_2.to_pickle(os.path.join(path, '02 Data' , 'Prepared Data' , 'df_chunk1.pkl' ))"
   ]
  },
  {
   "cell_type": "markdown",
   "id": "effd6801",
   "metadata": {},
   "source": [
    "customer profiling continues on next chunk..."
   ]
  }
 ],
 "metadata": {
  "kernelspec": {
   "display_name": "Python 3 (ipykernel)",
   "language": "python",
   "name": "python3"
  },
  "language_info": {
   "codemirror_mode": {
    "name": "ipython",
    "version": 3
   },
   "file_extension": ".py",
   "mimetype": "text/x-python",
   "name": "python",
   "nbconvert_exporter": "python",
   "pygments_lexer": "ipython3",
   "version": "3.11.5"
  }
 },
 "nbformat": 4,
 "nbformat_minor": 5
}
