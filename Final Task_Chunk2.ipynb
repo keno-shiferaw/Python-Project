{
 "cells": [
  {
   "cell_type": "code",
   "execution_count": 206,
   "id": "3cafbae6",
   "metadata": {},
   "outputs": [],
   "source": [
    "# Import libraries\n",
    "import pandas as pd\n",
    "import numpy as np\n",
    "import os\n",
    "import matplotlib.pyplot as plt\n",
    "import seaborn as sns\n",
    "import scipy"
   ]
  },
  {
   "cell_type": "code",
   "execution_count": 207,
   "id": "6dc62f20",
   "metadata": {},
   "outputs": [],
   "source": [
    "path = r'C:\\Users\\kshifera\\Desktop\\CF_Course\\Immersion\\Achievement_4\\Instacart Basket Analysis'"
   ]
  },
  {
   "cell_type": "code",
   "execution_count": 208,
   "id": "abd1141c",
   "metadata": {},
   "outputs": [],
   "source": [
    "# import dataframe\n",
    "df = pd.read_pickle(os.path.join(path, '02 Data' , 'Prepared Data' , 'df_chunk1.pkl'))"
   ]
  },
  {
   "cell_type": "markdown",
   "id": "f18803e0",
   "metadata": {},
   "source": [
    "### 5. Customer profiling"
   ]
  },
  {
   "cell_type": "markdown",
   "id": "dfee231f",
   "metadata": {},
   "source": [
    "#### Customer profiling is done using based on income and age. To make the classification, the following basic statistics is conducted on the variables."
   ]
  },
  {
   "cell_type": "code",
   "execution_count": 209,
   "id": "4a08d3df",
   "metadata": {},
   "outputs": [
    {
     "data": {
      "text/plain": [
       "count    2.441488e+07\n",
       "mean     9.989505e+04\n",
       "std      4.333357e+04\n",
       "min      2.590300e+04\n",
       "25%      6.752400e+04\n",
       "50%      9.683600e+04\n",
       "75%      1.281600e+05\n",
       "max      5.939010e+05\n",
       "Name: income, dtype: float64"
      ]
     },
     "execution_count": 209,
     "metadata": {},
     "output_type": "execute_result"
    }
   ],
   "source": [
    "df['income'].describe()"
   ]
  },
  {
   "cell_type": "code",
   "execution_count": 210,
   "id": "c307340b",
   "metadata": {},
   "outputs": [
    {
     "data": {
      "text/plain": [
       "count    2.441488e+07\n",
       "mean     4.945734e+01\n",
       "std      1.848532e+01\n",
       "min      1.800000e+01\n",
       "25%      3.300000e+01\n",
       "50%      4.900000e+01\n",
       "75%      6.500000e+01\n",
       "max      8.100000e+01\n",
       "Name: age, dtype: float64"
      ]
     },
     "execution_count": 210,
     "metadata": {},
     "output_type": "execute_result"
    }
   ],
   "source": [
    "df['age'].describe()"
   ]
  },
  {
   "cell_type": "markdown",
   "id": "d10c6017",
   "metadata": {},
   "source": [
    "### For the purpose of analyses the following classification is assumed:\n",
    "Income is grouped in to four based on income quartile. Accordingly, those in the first quartile are low income (< 67,004), the next group are low middle income (67,004 to 96,618), the following upper middle income (96,618 to 127,912) and those in the final quartile (> 127,912) are in upper income group.\n",
    "\n",
    "age follows the following classification: below 30 years of age are young adults, between 30 and 65 are adults, and above 65 are seniors.\n",
    "consequently, we have the following customer profiles:\n",
    "  1. low-income, young adult\n",
    "  2. low-income, adult\n",
    "  3. low-income, senior\n",
    "  4. lower-middle income, young adult\n",
    "  5. lower-middle income, adult\n",
    "  6. lower-middle income, senior\n",
    "  7. upper-middle income, young adult\n",
    "  8. upper-middle income, adult\n",
    "  9. upper-middle income, senior\n",
    "  10. high-income, young adult\n",
    "  11. high-income, adult\n",
    "  12. high-income, senior\n",
    "  "
   ]
  },
  {
   "cell_type": "markdown",
   "id": "927b675d",
   "metadata": {},
   "source": [
    "### Based on these, the customer profiles are defined in the dataframe"
   ]
  },
  {
   "cell_type": "code",
   "execution_count": 211,
   "id": "fab12ff9",
   "metadata": {},
   "outputs": [],
   "source": [
    "# Define low-income, young adult group\n",
    "df.loc[(df['age'] < 30) & (df['income'] < 67004), 'customer_profile'] = 'low-income, young adult'"
   ]
  },
  {
   "cell_type": "code",
   "execution_count": 212,
   "id": "aa78c8b2",
   "metadata": {},
   "outputs": [],
   "source": [
    "# Define low-income, adult group\n",
    "df.loc[(df['age'] >= 30) & (df['age'] < 65) & (df['income'] < 67004) , 'customer_profile'] = 'low-income, adult'"
   ]
  },
  {
   "cell_type": "code",
   "execution_count": 213,
   "id": "b28cfd67",
   "metadata": {},
   "outputs": [],
   "source": [
    "# Define low-income, senior group\n",
    "df.loc[(df['age'] >= 65) & (df['income'] < 67004), 'customer_profile'] = 'low-income, senior'"
   ]
  },
  {
   "cell_type": "code",
   "execution_count": 214,
   "id": "8859b782",
   "metadata": {},
   "outputs": [],
   "source": [
    "# Define lower-middle income, young adult group\n",
    "df.loc[(df['age'] < 30) & (df['income'] >= 67004) & (df['income'] < 96618), 'customer_profile'] = 'lower-middle income, young adult'"
   ]
  },
  {
   "cell_type": "code",
   "execution_count": 215,
   "id": "1aec6639",
   "metadata": {},
   "outputs": [],
   "source": [
    "# Define lower-middle income, adult group\n",
    "df.loc[(df['age'] >= 30) & (df['age'] < 65) & (df['income'] >= 67004) & (df['income'] < 96618), 'customer_profile'] = 'lower-middle income, adult'"
   ]
  },
  {
   "cell_type": "code",
   "execution_count": 216,
   "id": "0fbce27c",
   "metadata": {},
   "outputs": [],
   "source": [
    "# Define lower-middle income, senior group\n",
    "df.loc[(df['age'] >= 65) & (df['income'] >= 67004) & (df['income'] < 96618), 'customer_profile'] = 'lower-middle income, senior'"
   ]
  },
  {
   "cell_type": "code",
   "execution_count": 217,
   "id": "9ad1aad5",
   "metadata": {},
   "outputs": [],
   "source": [
    "# Define upper-middle income, young adult group\n",
    "df.loc[(df['age'] < 30) & (df['income'] >= 96618) & (df['income'] < 127912), 'customer_profile'] = 'upper-middle income, young adult'"
   ]
  },
  {
   "cell_type": "code",
   "execution_count": 218,
   "id": "f74f79a3",
   "metadata": {},
   "outputs": [],
   "source": [
    "# Define upper-middle income, adult group\n",
    "df.loc[(df['age'] >= 30) & (df['age'] < 65) & (df['income'] >= 96618) & (df['income'] < 127912), 'customer_profile'] = 'upper-middle income, adult'"
   ]
  },
  {
   "cell_type": "code",
   "execution_count": 219,
   "id": "389c360f",
   "metadata": {},
   "outputs": [],
   "source": [
    "# Define upper-middle income, senior group\n",
    "df.loc[(df['age'] >= 65) & (df['income'] >= 96618) & (df['income'] < 127912), 'customer_profile'] = 'upper-middle income, senior'"
   ]
  },
  {
   "cell_type": "code",
   "execution_count": 220,
   "id": "2be30e0a",
   "metadata": {},
   "outputs": [],
   "source": [
    "# Define high-income, young adult group\n",
    "df.loc[(df['age'] < 30) & (df['income'] >= 127912), 'customer_profile'] = 'high-income, young adult'"
   ]
  },
  {
   "cell_type": "code",
   "execution_count": 221,
   "id": "3f9f7307",
   "metadata": {},
   "outputs": [],
   "source": [
    "# Define high-income, adult group\n",
    "df.loc[(df['age'] >= 30) & (df['age'] < 65) & (df['income'] >= 127912), 'customer_profile'] = 'high-income, adult'"
   ]
  },
  {
   "cell_type": "code",
   "execution_count": 222,
   "id": "a299fa81",
   "metadata": {},
   "outputs": [],
   "source": [
    "# Define high-income, senior group\n",
    "df.loc[(df['age'] >= 65) & (df['income'] >= 127912), 'customer_profile'] = 'high-income, senior'"
   ]
  },
  {
   "cell_type": "markdown",
   "id": "d056256a",
   "metadata": {},
   "source": [
    "### The customer profile identified above can be crosstabulated with the number of dependents in each customer group as follows:"
   ]
  },
  {
   "cell_type": "code",
   "execution_count": 223,
   "id": "a2be32d0",
   "metadata": {},
   "outputs": [
    {
     "data": {
      "text/html": [
       "<div>\n",
       "<style scoped>\n",
       "    .dataframe tbody tr th:only-of-type {\n",
       "        vertical-align: middle;\n",
       "    }\n",
       "\n",
       "    .dataframe tbody tr th {\n",
       "        vertical-align: top;\n",
       "    }\n",
       "\n",
       "    .dataframe thead th {\n",
       "        text-align: right;\n",
       "    }\n",
       "</style>\n",
       "<table border=\"1\" class=\"dataframe\">\n",
       "  <thead>\n",
       "    <tr style=\"text-align: right;\">\n",
       "      <th>number_of_dependents</th>\n",
       "      <th>0</th>\n",
       "      <th>1</th>\n",
       "      <th>2</th>\n",
       "      <th>3</th>\n",
       "    </tr>\n",
       "    <tr>\n",
       "      <th>customer_profile</th>\n",
       "      <th></th>\n",
       "      <th></th>\n",
       "      <th></th>\n",
       "      <th></th>\n",
       "    </tr>\n",
       "  </thead>\n",
       "  <tbody>\n",
       "    <tr>\n",
       "      <th>high-income, adult</th>\n",
       "      <td>0.256774</td>\n",
       "      <td>0.247724</td>\n",
       "      <td>0.245811</td>\n",
       "      <td>0.249691</td>\n",
       "    </tr>\n",
       "    <tr>\n",
       "      <th>high-income, senior</th>\n",
       "      <td>0.245499</td>\n",
       "      <td>0.244771</td>\n",
       "      <td>0.255853</td>\n",
       "      <td>0.253877</td>\n",
       "    </tr>\n",
       "    <tr>\n",
       "      <th>high-income, young adult</th>\n",
       "      <td>0.203151</td>\n",
       "      <td>0.262793</td>\n",
       "      <td>0.278747</td>\n",
       "      <td>0.255309</td>\n",
       "    </tr>\n",
       "    <tr>\n",
       "      <th>low-income, adult</th>\n",
       "      <td>0.254789</td>\n",
       "      <td>0.244368</td>\n",
       "      <td>0.251625</td>\n",
       "      <td>0.249219</td>\n",
       "    </tr>\n",
       "    <tr>\n",
       "      <th>low-income, senior</th>\n",
       "      <td>0.235693</td>\n",
       "      <td>0.261690</td>\n",
       "      <td>0.252166</td>\n",
       "      <td>0.250451</td>\n",
       "    </tr>\n",
       "    <tr>\n",
       "      <th>low-income, young adult</th>\n",
       "      <td>0.246467</td>\n",
       "      <td>0.251071</td>\n",
       "      <td>0.246145</td>\n",
       "      <td>0.256316</td>\n",
       "    </tr>\n",
       "    <tr>\n",
       "      <th>lower-middle income, adult</th>\n",
       "      <td>0.245996</td>\n",
       "      <td>0.252864</td>\n",
       "      <td>0.247664</td>\n",
       "      <td>0.253476</td>\n",
       "    </tr>\n",
       "    <tr>\n",
       "      <th>lower-middle income, senior</th>\n",
       "      <td>0.250040</td>\n",
       "      <td>0.243434</td>\n",
       "      <td>0.262774</td>\n",
       "      <td>0.243752</td>\n",
       "    </tr>\n",
       "    <tr>\n",
       "      <th>lower-middle income, young adult</th>\n",
       "      <td>0.249577</td>\n",
       "      <td>0.253970</td>\n",
       "      <td>0.247145</td>\n",
       "      <td>0.249308</td>\n",
       "    </tr>\n",
       "    <tr>\n",
       "      <th>upper-middle income, adult</th>\n",
       "      <td>0.251243</td>\n",
       "      <td>0.251761</td>\n",
       "      <td>0.243994</td>\n",
       "      <td>0.253003</td>\n",
       "    </tr>\n",
       "    <tr>\n",
       "      <th>upper-middle income, senior</th>\n",
       "      <td>0.251098</td>\n",
       "      <td>0.245698</td>\n",
       "      <td>0.255037</td>\n",
       "      <td>0.248167</td>\n",
       "    </tr>\n",
       "    <tr>\n",
       "      <th>upper-middle income, young adult</th>\n",
       "      <td>0.254502</td>\n",
       "      <td>0.238350</td>\n",
       "      <td>0.258748</td>\n",
       "      <td>0.248400</td>\n",
       "    </tr>\n",
       "  </tbody>\n",
       "</table>\n",
       "</div>"
      ],
      "text/plain": [
       "number_of_dependents                     0         1         2         3\n",
       "customer_profile                                                        \n",
       "high-income, adult                0.256774  0.247724  0.245811  0.249691\n",
       "high-income, senior               0.245499  0.244771  0.255853  0.253877\n",
       "high-income, young adult          0.203151  0.262793  0.278747  0.255309\n",
       "low-income, adult                 0.254789  0.244368  0.251625  0.249219\n",
       "low-income, senior                0.235693  0.261690  0.252166  0.250451\n",
       "low-income, young adult           0.246467  0.251071  0.246145  0.256316\n",
       "lower-middle income, adult        0.245996  0.252864  0.247664  0.253476\n",
       "lower-middle income, senior       0.250040  0.243434  0.262774  0.243752\n",
       "lower-middle income, young adult  0.249577  0.253970  0.247145  0.249308\n",
       "upper-middle income, adult        0.251243  0.251761  0.243994  0.253003\n",
       "upper-middle income, senior       0.251098  0.245698  0.255037  0.248167\n",
       "upper-middle income, young adult  0.254502  0.238350  0.258748  0.248400"
      ]
     },
     "execution_count": 223,
     "metadata": {},
     "output_type": "execute_result"
    }
   ],
   "source": [
    "# Crosstab indicating proportion of number of dependents in each customer profile\n",
    "x_cp_nd = pd.crosstab(df['customer_profile'], df['number_of_dependents'], normalize = 'index')\n",
    "x_cp_nd"
   ]
  },
  {
   "cell_type": "markdown",
   "id": "85c32869",
   "metadata": {},
   "source": [
    "#### There seems to be an even distribution of number of dependents among the different customer profiles\n"
   ]
  },
  {
   "cell_type": "markdown",
   "id": "c304216b",
   "metadata": {},
   "source": [
    "### 6. Visualization for distribution of profiles"
   ]
  },
  {
   "cell_type": "code",
   "execution_count": 224,
   "id": "e5b76bb6",
   "metadata": {},
   "outputs": [
    {
     "data": {
      "text/plain": [
       "customer_profile\n",
       "high-income, adult                  3595029\n",
       "upper-middle income, adult          3544536\n",
       "lower-middle income, adult          3131341\n",
       "low-income, adult                   3095261\n",
       "high-income, senior                 2488216\n",
       "upper-middle income, senior         2282205\n",
       "lower-middle income, young adult    2147184\n",
       "low-income, young adult             2082053\n",
       "lower-middle income, senior          877734\n",
       "low-income, senior                   810295\n",
       "upper-middle income, young adult     305173\n",
       "high-income, young adult              55850\n",
       "Name: count, dtype: int64"
      ]
     },
     "execution_count": 224,
     "metadata": {},
     "output_type": "execute_result"
    }
   ],
   "source": [
    "df['customer_profile'].value_counts()"
   ]
  },
  {
   "cell_type": "code",
   "execution_count": 225,
   "id": "37795304",
   "metadata": {},
   "outputs": [
    {
     "data": {
      "image/png": "[encoded data removed]",
      "text/plain": [
       "<Figure size 640x480 with 1 Axes>"
      ]
     },
     "metadata": {},
     "output_type": "display_data"
    }
   ],
   "source": [
    "# we create a horizontal bar chart to visualize the distribution of customer profiles\n",
    "bar = df['customer_profile'].value_counts().sort_values().plot(kind ='barh')\n",
    "                        "
   ]
  },
  {
   "cell_type": "code",
   "execution_count": 331,
   "id": "751b0ff0",
   "metadata": {},
   "outputs": [],
   "source": [
    "# Export the chart\n",
    "bar.figure.savefig(os.path.join(path,'04 Analysis' , 'Visualizations' , 'barh_1.png'))"
   ]
  },
  {
   "cell_type": "markdown",
   "id": "3423f249",
   "metadata": {},
   "source": [
    "( Note: The numbers on the horizontal are in millions)"
   ]
  },
  {
   "cell_type": "markdown",
   "id": "42a39b8f",
   "metadata": {},
   "source": [
    "#### The visualization clearly depicts that the proportion of high-income, adult group is the highest, while that of high-income, young adult is the lowest, perhaps alluding to the fact that it takes a while to have high income! On the other hand, irrespective of their incomes, the top customers of the Instacart are the adult age group. "
   ]
  },
  {
   "cell_type": "markdown",
   "id": "48f5e516",
   "metadata": {},
   "source": [
    "### 7. Aggregation of customer profiles based on their usage frequency and expenditure "
   ]
  },
  {
   "cell_type": "code",
   "execution_count": 226,
   "id": "fdec60f6",
   "metadata": {},
   "outputs": [
    {
     "data": {
      "text/html": [
       "<div>\n",
       "<style scoped>\n",
       "    .dataframe tbody tr th:only-of-type {\n",
       "        vertical-align: middle;\n",
       "    }\n",
       "\n",
       "    .dataframe tbody tr th {\n",
       "        vertical-align: top;\n",
       "    }\n",
       "\n",
       "    .dataframe thead tr th {\n",
       "        text-align: left;\n",
       "    }\n",
       "\n",
       "    .dataframe thead tr:last-of-type th {\n",
       "        text-align: right;\n",
       "    }\n",
       "</style>\n",
       "<table border=\"1\" class=\"dataframe\">\n",
       "  <thead>\n",
       "    <tr>\n",
       "      <th></th>\n",
       "      <th colspan=\"3\" halign=\"left\">days_since_prior_order</th>\n",
       "    </tr>\n",
       "    <tr>\n",
       "      <th></th>\n",
       "      <th>mean</th>\n",
       "      <th>min</th>\n",
       "      <th>max</th>\n",
       "    </tr>\n",
       "    <tr>\n",
       "      <th>customer_profile</th>\n",
       "      <th></th>\n",
       "      <th></th>\n",
       "      <th></th>\n",
       "    </tr>\n",
       "  </thead>\n",
       "  <tbody>\n",
       "    <tr>\n",
       "      <th>high-income, adult</th>\n",
       "      <td>10.067508</td>\n",
       "      <td>0.0</td>\n",
       "      <td>30.0</td>\n",
       "    </tr>\n",
       "    <tr>\n",
       "      <th>high-income, senior</th>\n",
       "      <td>10.004289</td>\n",
       "      <td>0.0</td>\n",
       "      <td>30.0</td>\n",
       "    </tr>\n",
       "    <tr>\n",
       "      <th>high-income, young adult</th>\n",
       "      <td>9.420161</td>\n",
       "      <td>0.0</td>\n",
       "      <td>30.0</td>\n",
       "    </tr>\n",
       "    <tr>\n",
       "      <th>low-income, adult</th>\n",
       "      <td>10.185615</td>\n",
       "      <td>0.0</td>\n",
       "      <td>30.0</td>\n",
       "    </tr>\n",
       "    <tr>\n",
       "      <th>low-income, senior</th>\n",
       "      <td>10.321906</td>\n",
       "      <td>0.0</td>\n",
       "      <td>30.0</td>\n",
       "    </tr>\n",
       "    <tr>\n",
       "      <th>low-income, young adult</th>\n",
       "      <td>10.193614</td>\n",
       "      <td>0.0</td>\n",
       "      <td>30.0</td>\n",
       "    </tr>\n",
       "    <tr>\n",
       "      <th>lower-middle income, adult</th>\n",
       "      <td>10.037629</td>\n",
       "      <td>0.0</td>\n",
       "      <td>30.0</td>\n",
       "    </tr>\n",
       "    <tr>\n",
       "      <th>lower-middle income, senior</th>\n",
       "      <td>9.909195</td>\n",
       "      <td>0.0</td>\n",
       "      <td>30.0</td>\n",
       "    </tr>\n",
       "    <tr>\n",
       "      <th>lower-middle income, young adult</th>\n",
       "      <td>10.004431</td>\n",
       "      <td>0.0</td>\n",
       "      <td>30.0</td>\n",
       "    </tr>\n",
       "    <tr>\n",
       "      <th>upper-middle income, adult</th>\n",
       "      <td>10.051700</td>\n",
       "      <td>0.0</td>\n",
       "      <td>30.0</td>\n",
       "    </tr>\n",
       "    <tr>\n",
       "      <th>upper-middle income, senior</th>\n",
       "      <td>10.134371</td>\n",
       "      <td>0.0</td>\n",
       "      <td>30.0</td>\n",
       "    </tr>\n",
       "    <tr>\n",
       "      <th>upper-middle income, young adult</th>\n",
       "      <td>10.275142</td>\n",
       "      <td>0.0</td>\n",
       "      <td>30.0</td>\n",
       "    </tr>\n",
       "  </tbody>\n",
       "</table>\n",
       "</div>"
      ],
      "text/plain": [
       "                                 days_since_prior_order           \n",
       "                                                   mean  min   max\n",
       "customer_profile                                                  \n",
       "high-income, adult                            10.067508  0.0  30.0\n",
       "high-income, senior                           10.004289  0.0  30.0\n",
       "high-income, young adult                       9.420161  0.0  30.0\n",
       "low-income, adult                             10.185615  0.0  30.0\n",
       "low-income, senior                            10.321906  0.0  30.0\n",
       "low-income, young adult                       10.193614  0.0  30.0\n",
       "lower-middle income, adult                    10.037629  0.0  30.0\n",
       "lower-middle income, senior                    9.909195  0.0  30.0\n",
       "lower-middle income, young adult              10.004431  0.0  30.0\n",
       "upper-middle income, adult                    10.051700  0.0  30.0\n",
       "upper-middle income, senior                   10.134371  0.0  30.0\n",
       "upper-middle income, young adult              10.275142  0.0  30.0"
      ]
     },
     "execution_count": 226,
     "metadata": {},
     "output_type": "execute_result"
    }
   ],
   "source": [
    "# mean, min and max values of usage frequency of customer profiles\n",
    "usage_frequency = df.groupby('customer_profile').agg({'days_since_prior_order': ['mean' , 'min' , 'max']})\n",
    "usage_frequency"
   ]
  },
  {
   "cell_type": "code",
   "execution_count": 227,
   "id": "512cc0ec",
   "metadata": {},
   "outputs": [
    {
     "data": {
      "text/html": [
       "<div>\n",
       "<style scoped>\n",
       "    .dataframe tbody tr th:only-of-type {\n",
       "        vertical-align: middle;\n",
       "    }\n",
       "\n",
       "    .dataframe tbody tr th {\n",
       "        vertical-align: top;\n",
       "    }\n",
       "\n",
       "    .dataframe thead tr th {\n",
       "        text-align: left;\n",
       "    }\n",
       "\n",
       "    .dataframe thead tr:last-of-type th {\n",
       "        text-align: right;\n",
       "    }\n",
       "</style>\n",
       "<table border=\"1\" class=\"dataframe\">\n",
       "  <thead>\n",
       "    <tr>\n",
       "      <th></th>\n",
       "      <th colspan=\"3\" halign=\"left\">prices</th>\n",
       "    </tr>\n",
       "    <tr>\n",
       "      <th></th>\n",
       "      <th>mean</th>\n",
       "      <th>min</th>\n",
       "      <th>max</th>\n",
       "    </tr>\n",
       "    <tr>\n",
       "      <th>customer_profile</th>\n",
       "      <th></th>\n",
       "      <th></th>\n",
       "      <th></th>\n",
       "    </tr>\n",
       "  </thead>\n",
       "  <tbody>\n",
       "    <tr>\n",
       "      <th>high-income, adult</th>\n",
       "      <td>20.842343</td>\n",
       "      <td>1.0</td>\n",
       "      <td>99999.0</td>\n",
       "    </tr>\n",
       "    <tr>\n",
       "      <th>high-income, senior</th>\n",
       "      <td>16.903986</td>\n",
       "      <td>1.0</td>\n",
       "      <td>99999.0</td>\n",
       "    </tr>\n",
       "    <tr>\n",
       "      <th>high-income, young adult</th>\n",
       "      <td>281.996038</td>\n",
       "      <td>1.0</td>\n",
       "      <td>99999.0</td>\n",
       "    </tr>\n",
       "    <tr>\n",
       "      <th>low-income, adult</th>\n",
       "      <td>7.278045</td>\n",
       "      <td>1.0</td>\n",
       "      <td>14900.0</td>\n",
       "    </tr>\n",
       "    <tr>\n",
       "      <th>low-income, senior</th>\n",
       "      <td>6.709261</td>\n",
       "      <td>1.0</td>\n",
       "      <td>25.0</td>\n",
       "    </tr>\n",
       "    <tr>\n",
       "      <th>low-income, young adult</th>\n",
       "      <td>7.600615</td>\n",
       "      <td>1.0</td>\n",
       "      <td>14900.0</td>\n",
       "    </tr>\n",
       "    <tr>\n",
       "      <th>lower-middle income, adult</th>\n",
       "      <td>8.661349</td>\n",
       "      <td>1.0</td>\n",
       "      <td>99999.0</td>\n",
       "    </tr>\n",
       "    <tr>\n",
       "      <th>lower-middle income, senior</th>\n",
       "      <td>8.766952</td>\n",
       "      <td>1.0</td>\n",
       "      <td>99999.0</td>\n",
       "    </tr>\n",
       "    <tr>\n",
       "      <th>lower-middle income, young adult</th>\n",
       "      <td>8.859249</td>\n",
       "      <td>1.0</td>\n",
       "      <td>99999.0</td>\n",
       "    </tr>\n",
       "    <tr>\n",
       "      <th>upper-middle income, adult</th>\n",
       "      <td>9.374225</td>\n",
       "      <td>1.0</td>\n",
       "      <td>99999.0</td>\n",
       "    </tr>\n",
       "    <tr>\n",
       "      <th>upper-middle income, senior</th>\n",
       "      <td>8.707137</td>\n",
       "      <td>1.0</td>\n",
       "      <td>99999.0</td>\n",
       "    </tr>\n",
       "    <tr>\n",
       "      <th>upper-middle income, young adult</th>\n",
       "      <td>17.442318</td>\n",
       "      <td>1.0</td>\n",
       "      <td>99999.0</td>\n",
       "    </tr>\n",
       "  </tbody>\n",
       "</table>\n",
       "</div>"
      ],
      "text/plain": [
       "                                      prices              \n",
       "                                        mean  min      max\n",
       "customer_profile                                          \n",
       "high-income, adult                 20.842343  1.0  99999.0\n",
       "high-income, senior                16.903986  1.0  99999.0\n",
       "high-income, young adult          281.996038  1.0  99999.0\n",
       "low-income, adult                   7.278045  1.0  14900.0\n",
       "low-income, senior                  6.709261  1.0     25.0\n",
       "low-income, young adult             7.600615  1.0  14900.0\n",
       "lower-middle income, adult          8.661349  1.0  99999.0\n",
       "lower-middle income, senior         8.766952  1.0  99999.0\n",
       "lower-middle income, young adult    8.859249  1.0  99999.0\n",
       "upper-middle income, adult          9.374225  1.0  99999.0\n",
       "upper-middle income, senior         8.707137  1.0  99999.0\n",
       "upper-middle income, young adult   17.442318  1.0  99999.0"
      ]
     },
     "execution_count": 227,
     "metadata": {},
     "output_type": "execute_result"
    }
   ],
   "source": [
    "# mean, min and max values of expenditure of customer profiles\n",
    "expenditure = df.groupby('customer_profile').agg({'prices':['mean', 'min' , 'max']})\n",
    "expenditure"
   ]
  },
  {
   "cell_type": "markdown",
   "id": "a68756c2",
   "metadata": {},
   "source": [
    "### 8. Analysis by regions"
   ]
  },
  {
   "cell_type": "markdown",
   "id": "fc757482",
   "metadata": {},
   "source": [
    "#### 8.1. Northeast region"
   ]
  },
  {
   "cell_type": "code",
   "execution_count": 228,
   "id": "f13c81a8",
   "metadata": {},
   "outputs": [],
   "source": [
    "# subset of the dataframe for the Northeast region\n",
    "df_ne = df[df['region'] == 'Northeast']"
   ]
  },
  {
   "cell_type": "code",
   "execution_count": 229,
   "id": "775f2531",
   "metadata": {},
   "outputs": [
    {
     "data": {
      "text/plain": [
       "4315271"
      ]
     },
     "execution_count": 229,
     "metadata": {},
     "output_type": "execute_result"
    }
   ],
   "source": [
    "# customer count in the region\n",
    "df_ne['user_id'].value_counts().sum()"
   ]
  },
  {
   "cell_type": "markdown",
   "id": "adcd42ca",
   "metadata": {},
   "source": [
    "#### 8.1.1. Demographic outlook"
   ]
  },
  {
   "cell_type": "code",
   "execution_count": 230,
   "id": "9907e208",
   "metadata": {},
   "outputs": [
    {
     "data": {
      "text/plain": [
       "customer_profile\n",
       "upper-middle income, adult          632369\n",
       "high-income, adult                  622255\n",
       "low-income, adult                   550405\n",
       "lower-middle income, adult          521727\n",
       "high-income, senior                 458112\n",
       "upper-middle income, senior         409439\n",
       "lower-middle income, young adult    400178\n",
       "low-income, young adult             359069\n",
       "lower-middle income, senior         157370\n",
       "low-income, senior                  151958\n",
       "upper-middle income, young adult     44806\n",
       "high-income, young adult              7583\n",
       "Name: count, dtype: int64"
      ]
     },
     "execution_count": 230,
     "metadata": {},
     "output_type": "execute_result"
    }
   ],
   "source": [
    "# customer profile\n",
    "df_ne['customer_profile'].value_counts()"
   ]
  },
  {
   "cell_type": "code",
   "execution_count": 231,
   "id": "1da2f424",
   "metadata": {},
   "outputs": [
    {
     "data": {
      "text/plain": [
       "family_status\n",
       "married                             3045202\n",
       "single                               684778\n",
       "divorced/widowed                     380360\n",
       "living with parents and siblings     204931\n",
       "Name: count, dtype: int64"
      ]
     },
     "execution_count": 231,
     "metadata": {},
     "output_type": "execute_result"
    }
   ],
   "source": [
    "# prevailing family status\n",
    "df_ne['family_status'].value_counts()"
   ]
  },
  {
   "cell_type": "code",
   "execution_count": 232,
   "id": "4fce736a",
   "metadata": {
    "scrolled": true
   },
   "outputs": [
    {
     "data": {
      "text/plain": [
       "number_of_dependents\n",
       "3    1094308\n",
       "1    1087111\n",
       "2    1068714\n",
       "0    1065138\n",
       "Name: count, dtype: int64"
      ]
     },
     "execution_count": 232,
     "metadata": {},
     "output_type": "execute_result"
    }
   ],
   "source": [
    "# number of dependents\n",
    "df_ne['number_of_dependents'].value_counts()"
   ]
  },
  {
   "cell_type": "markdown",
   "id": "bfbfb835",
   "metadata": {},
   "source": [
    "#### 8.1.2. Spending habits "
   ]
  },
  {
   "cell_type": "code",
   "execution_count": 233,
   "id": "a5ef0fd0",
   "metadata": {},
   "outputs": [
    {
     "data": {
      "text/plain": [
       "count    4.315271e+06\n",
       "mean     1.129023e+01\n",
       "std      4.473718e+02\n",
       "min      1.000000e+00\n",
       "25%      4.200000e+00\n",
       "50%      7.400000e+00\n",
       "75%      1.120000e+01\n",
       "max      9.999900e+04\n",
       "Name: prices, dtype: float64"
      ]
     },
     "execution_count": 233,
     "metadata": {},
     "output_type": "execute_result"
    }
   ],
   "source": [
    "# region spending statistics\n",
    "df_ne['prices'].describe()"
   ]
  },
  {
   "cell_type": "code",
   "execution_count": 234,
   "id": "25d23e25",
   "metadata": {
    "scrolled": false
   },
   "outputs": [
    {
     "data": {
      "text/plain": [
       "spending_flag\n",
       "Low spender     4232654\n",
       "High spender      82617\n",
       "Name: count, dtype: int64"
      ]
     },
     "execution_count": 234,
     "metadata": {},
     "output_type": "execute_result"
    }
   ],
   "source": [
    "# customer spending habits\n",
    "df_ne['spending_flag'].value_counts(dropna = False)"
   ]
  },
  {
   "cell_type": "code",
   "execution_count": 235,
   "id": "83efd954",
   "metadata": {
    "scrolled": true
   },
   "outputs": [
    {
     "data": {
      "text/html": [
       "<div>\n",
       "<style scoped>\n",
       "    .dataframe tbody tr th:only-of-type {\n",
       "        vertical-align: middle;\n",
       "    }\n",
       "\n",
       "    .dataframe tbody tr th {\n",
       "        vertical-align: top;\n",
       "    }\n",
       "\n",
       "    .dataframe thead th {\n",
       "        text-align: right;\n",
       "    }\n",
       "</style>\n",
       "<table border=\"1\" class=\"dataframe\">\n",
       "  <thead>\n",
       "    <tr style=\"text-align: right;\">\n",
       "      <th>spending_flag</th>\n",
       "      <th>High spender</th>\n",
       "      <th>Low spender</th>\n",
       "    </tr>\n",
       "    <tr>\n",
       "      <th>customer_profile</th>\n",
       "      <th></th>\n",
       "      <th></th>\n",
       "    </tr>\n",
       "  </thead>\n",
       "  <tbody>\n",
       "    <tr>\n",
       "      <th>high-income, adult</th>\n",
       "      <td>0.061075</td>\n",
       "      <td>0.938925</td>\n",
       "    </tr>\n",
       "    <tr>\n",
       "      <th>high-income, senior</th>\n",
       "      <td>0.035212</td>\n",
       "      <td>0.964788</td>\n",
       "    </tr>\n",
       "    <tr>\n",
       "      <th>high-income, young adult</th>\n",
       "      <td>1.000000</td>\n",
       "      <td>0.000000</td>\n",
       "    </tr>\n",
       "    <tr>\n",
       "      <th>low-income, adult</th>\n",
       "      <td>0.001544</td>\n",
       "      <td>0.998456</td>\n",
       "    </tr>\n",
       "    <tr>\n",
       "      <th>low-income, senior</th>\n",
       "      <td>0.000000</td>\n",
       "      <td>1.000000</td>\n",
       "    </tr>\n",
       "    <tr>\n",
       "      <th>low-income, young adult</th>\n",
       "      <td>0.002331</td>\n",
       "      <td>0.997669</td>\n",
       "    </tr>\n",
       "    <tr>\n",
       "      <th>lower-middle income, adult</th>\n",
       "      <td>0.006975</td>\n",
       "      <td>0.993025</td>\n",
       "    </tr>\n",
       "    <tr>\n",
       "      <th>lower-middle income, senior</th>\n",
       "      <td>0.004887</td>\n",
       "      <td>0.995113</td>\n",
       "    </tr>\n",
       "    <tr>\n",
       "      <th>lower-middle income, young adult</th>\n",
       "      <td>0.010308</td>\n",
       "      <td>0.989692</td>\n",
       "    </tr>\n",
       "    <tr>\n",
       "      <th>upper-middle income, adult</th>\n",
       "      <td>0.008598</td>\n",
       "      <td>0.991402</td>\n",
       "    </tr>\n",
       "    <tr>\n",
       "      <th>upper-middle income, senior</th>\n",
       "      <td>0.007420</td>\n",
       "      <td>0.992580</td>\n",
       "    </tr>\n",
       "    <tr>\n",
       "      <th>upper-middle income, young adult</th>\n",
       "      <td>0.049190</td>\n",
       "      <td>0.950810</td>\n",
       "    </tr>\n",
       "  </tbody>\n",
       "</table>\n",
       "</div>"
      ],
      "text/plain": [
       "spending_flag                     High spender  Low spender\n",
       "customer_profile                                           \n",
       "high-income, adult                    0.061075     0.938925\n",
       "high-income, senior                   0.035212     0.964788\n",
       "high-income, young adult              1.000000     0.000000\n",
       "low-income, adult                     0.001544     0.998456\n",
       "low-income, senior                    0.000000     1.000000\n",
       "low-income, young adult               0.002331     0.997669\n",
       "lower-middle income, adult            0.006975     0.993025\n",
       "lower-middle income, senior           0.004887     0.995113\n",
       "lower-middle income, young adult      0.010308     0.989692\n",
       "upper-middle income, adult            0.008598     0.991402\n",
       "upper-middle income, senior           0.007420     0.992580\n",
       "upper-middle income, young adult      0.049190     0.950810"
      ]
     },
     "execution_count": 235,
     "metadata": {},
     "output_type": "execute_result"
    }
   ],
   "source": [
    "# proportion of customer spending habits by customer profile\n",
    "ne_profile = pd.crosstab(df_ne['customer_profile'], df_ne['spending_flag'], normalize = 'index')\n",
    "ne_profile"
   ]
  },
  {
   "cell_type": "code",
   "execution_count": 236,
   "id": "52cdc038",
   "metadata": {},
   "outputs": [
    {
     "data": {
      "text/html": [
       "<div>\n",
       "<style scoped>\n",
       "    .dataframe tbody tr th:only-of-type {\n",
       "        vertical-align: middle;\n",
       "    }\n",
       "\n",
       "    .dataframe tbody tr th {\n",
       "        vertical-align: top;\n",
       "    }\n",
       "\n",
       "    .dataframe thead th {\n",
       "        text-align: right;\n",
       "    }\n",
       "</style>\n",
       "<table border=\"1\" class=\"dataframe\">\n",
       "  <thead>\n",
       "    <tr style=\"text-align: right;\">\n",
       "      <th>price_range_loc</th>\n",
       "      <th>High range product</th>\n",
       "      <th>Low range product</th>\n",
       "      <th>Mid range product</th>\n",
       "    </tr>\n",
       "    <tr>\n",
       "      <th>customer_profile</th>\n",
       "      <th></th>\n",
       "      <th></th>\n",
       "      <th></th>\n",
       "    </tr>\n",
       "  </thead>\n",
       "  <tbody>\n",
       "    <tr>\n",
       "      <th>high-income, adult</th>\n",
       "      <td>0.014554</td>\n",
       "      <td>0.300051</td>\n",
       "      <td>0.685396</td>\n",
       "    </tr>\n",
       "    <tr>\n",
       "      <th>high-income, senior</th>\n",
       "      <td>0.014494</td>\n",
       "      <td>0.294240</td>\n",
       "      <td>0.691265</td>\n",
       "    </tr>\n",
       "    <tr>\n",
       "      <th>high-income, young adult</th>\n",
       "      <td>0.020177</td>\n",
       "      <td>0.313860</td>\n",
       "      <td>0.665963</td>\n",
       "    </tr>\n",
       "    <tr>\n",
       "      <th>low-income, adult</th>\n",
       "      <td>0.008614</td>\n",
       "      <td>0.361376</td>\n",
       "      <td>0.630011</td>\n",
       "    </tr>\n",
       "    <tr>\n",
       "      <th>low-income, senior</th>\n",
       "      <td>0.005212</td>\n",
       "      <td>0.407803</td>\n",
       "      <td>0.586985</td>\n",
       "    </tr>\n",
       "    <tr>\n",
       "      <th>low-income, young adult</th>\n",
       "      <td>0.010767</td>\n",
       "      <td>0.332167</td>\n",
       "      <td>0.657066</td>\n",
       "    </tr>\n",
       "    <tr>\n",
       "      <th>lower-middle income, adult</th>\n",
       "      <td>0.013212</td>\n",
       "      <td>0.296180</td>\n",
       "      <td>0.690608</td>\n",
       "    </tr>\n",
       "    <tr>\n",
       "      <th>lower-middle income, senior</th>\n",
       "      <td>0.013300</td>\n",
       "      <td>0.301601</td>\n",
       "      <td>0.685099</td>\n",
       "    </tr>\n",
       "    <tr>\n",
       "      <th>lower-middle income, young adult</th>\n",
       "      <td>0.012942</td>\n",
       "      <td>0.300979</td>\n",
       "      <td>0.686080</td>\n",
       "    </tr>\n",
       "    <tr>\n",
       "      <th>upper-middle income, adult</th>\n",
       "      <td>0.013661</td>\n",
       "      <td>0.297167</td>\n",
       "      <td>0.689172</td>\n",
       "    </tr>\n",
       "    <tr>\n",
       "      <th>upper-middle income, senior</th>\n",
       "      <td>0.013680</td>\n",
       "      <td>0.301891</td>\n",
       "      <td>0.684429</td>\n",
       "    </tr>\n",
       "    <tr>\n",
       "      <th>upper-middle income, young adult</th>\n",
       "      <td>0.012922</td>\n",
       "      <td>0.306566</td>\n",
       "      <td>0.680512</td>\n",
       "    </tr>\n",
       "  </tbody>\n",
       "</table>\n",
       "</div>"
      ],
      "text/plain": [
       "price_range_loc                   High range product  Low range product  \\\n",
       "customer_profile                                                          \n",
       "high-income, adult                          0.014554           0.300051   \n",
       "high-income, senior                         0.014494           0.294240   \n",
       "high-income, young adult                    0.020177           0.313860   \n",
       "low-income, adult                           0.008614           0.361376   \n",
       "low-income, senior                          0.005212           0.407803   \n",
       "low-income, young adult                     0.010767           0.332167   \n",
       "lower-middle income, adult                  0.013212           0.296180   \n",
       "lower-middle income, senior                 0.013300           0.301601   \n",
       "lower-middle income, young adult            0.012942           0.300979   \n",
       "upper-middle income, adult                  0.013661           0.297167   \n",
       "upper-middle income, senior                 0.013680           0.301891   \n",
       "upper-middle income, young adult            0.012922           0.306566   \n",
       "\n",
       "price_range_loc                   Mid range product  \n",
       "customer_profile                                     \n",
       "high-income, adult                         0.685396  \n",
       "high-income, senior                        0.691265  \n",
       "high-income, young adult                   0.665963  \n",
       "low-income, adult                          0.630011  \n",
       "low-income, senior                         0.586985  \n",
       "low-income, young adult                    0.657066  \n",
       "lower-middle income, adult                 0.690608  \n",
       "lower-middle income, senior                0.685099  \n",
       "lower-middle income, young adult           0.686080  \n",
       "upper-middle income, adult                 0.689172  \n",
       "upper-middle income, senior                0.684429  \n",
       "upper-middle income, young adult           0.680512  "
      ]
     },
     "execution_count": 236,
     "metadata": {},
     "output_type": "execute_result"
    }
   ],
   "source": [
    "# product price ranges customers spend prefer\n",
    "ne_prepri = pd.crosstab(df_ne['customer_profile'], df_ne['price_range_loc'], normalize = 'index')\n",
    "ne_prepri"
   ]
  },
  {
   "cell_type": "markdown",
   "id": "a99c6b9e",
   "metadata": {},
   "source": [
    "#### 8.1.3. Ordering habits"
   ]
  },
  {
   "cell_type": "code",
   "execution_count": 237,
   "id": "6ddd7930",
   "metadata": {},
   "outputs": [
    {
     "data": {
      "text/plain": [
       "count    4.315271e+06\n",
       "mean     8.493239e+00\n",
       "std      5.314135e+00\n",
       "min      0.000000e+00\n",
       "25%      5.000000e+00\n",
       "50%      7.000000e+00\n",
       "75%      1.000000e+01\n",
       "max      3.000000e+01\n",
       "Name: median_order, dtype: float64"
      ]
     },
     "execution_count": 237,
     "metadata": {},
     "output_type": "execute_result"
    }
   ],
   "source": [
    "# region ordering statistics\n",
    "df_ne['median_order'].describe()"
   ]
  },
  {
   "cell_type": "code",
   "execution_count": 238,
   "id": "cdc2b304",
   "metadata": {},
   "outputs": [
    {
     "data": {
      "text/plain": [
       "frequency_flag\n",
       "Frequent customer        3314419\n",
       "Regular customer          808070\n",
       "Non-frequent customer     192782\n",
       "Name: count, dtype: int64"
      ]
     },
     "execution_count": 238,
     "metadata": {},
     "output_type": "execute_result"
    }
   ],
   "source": [
    "# customer ordering habits\n",
    "df_ne['frequency_flag'].value_counts(dropna=False)"
   ]
  },
  {
   "cell_type": "code",
   "execution_count": 239,
   "id": "49693d4b",
   "metadata": {},
   "outputs": [
    {
     "data": {
      "text/html": [
       "<div>\n",
       "<style scoped>\n",
       "    .dataframe tbody tr th:only-of-type {\n",
       "        vertical-align: middle;\n",
       "    }\n",
       "\n",
       "    .dataframe tbody tr th {\n",
       "        vertical-align: top;\n",
       "    }\n",
       "\n",
       "    .dataframe thead th {\n",
       "        text-align: right;\n",
       "    }\n",
       "</style>\n",
       "<table border=\"1\" class=\"dataframe\">\n",
       "  <thead>\n",
       "    <tr style=\"text-align: right;\">\n",
       "      <th>frequency_flag</th>\n",
       "      <th>Frequent customer</th>\n",
       "      <th>Non-frequent customer</th>\n",
       "      <th>Regular customer</th>\n",
       "    </tr>\n",
       "    <tr>\n",
       "      <th>customer_profile</th>\n",
       "      <th></th>\n",
       "      <th></th>\n",
       "      <th></th>\n",
       "    </tr>\n",
       "  </thead>\n",
       "  <tbody>\n",
       "    <tr>\n",
       "      <th>high-income, adult</th>\n",
       "      <td>0.757884</td>\n",
       "      <td>0.046250</td>\n",
       "      <td>0.195867</td>\n",
       "    </tr>\n",
       "    <tr>\n",
       "      <th>high-income, senior</th>\n",
       "      <td>0.790617</td>\n",
       "      <td>0.036096</td>\n",
       "      <td>0.173287</td>\n",
       "    </tr>\n",
       "    <tr>\n",
       "      <th>high-income, young adult</th>\n",
       "      <td>0.776606</td>\n",
       "      <td>0.018330</td>\n",
       "      <td>0.205064</td>\n",
       "    </tr>\n",
       "    <tr>\n",
       "      <th>low-income, adult</th>\n",
       "      <td>0.754265</td>\n",
       "      <td>0.048119</td>\n",
       "      <td>0.197616</td>\n",
       "    </tr>\n",
       "    <tr>\n",
       "      <th>low-income, senior</th>\n",
       "      <td>0.770364</td>\n",
       "      <td>0.056799</td>\n",
       "      <td>0.172837</td>\n",
       "    </tr>\n",
       "    <tr>\n",
       "      <th>low-income, young adult</th>\n",
       "      <td>0.764527</td>\n",
       "      <td>0.046286</td>\n",
       "      <td>0.189186</td>\n",
       "    </tr>\n",
       "    <tr>\n",
       "      <th>lower-middle income, adult</th>\n",
       "      <td>0.758623</td>\n",
       "      <td>0.047429</td>\n",
       "      <td>0.193948</td>\n",
       "    </tr>\n",
       "    <tr>\n",
       "      <th>lower-middle income, senior</th>\n",
       "      <td>0.782525</td>\n",
       "      <td>0.049749</td>\n",
       "      <td>0.167726</td>\n",
       "    </tr>\n",
       "    <tr>\n",
       "      <th>lower-middle income, young adult</th>\n",
       "      <td>0.793090</td>\n",
       "      <td>0.041629</td>\n",
       "      <td>0.165281</td>\n",
       "    </tr>\n",
       "    <tr>\n",
       "      <th>upper-middle income, adult</th>\n",
       "      <td>0.764375</td>\n",
       "      <td>0.044596</td>\n",
       "      <td>0.191029</td>\n",
       "    </tr>\n",
       "    <tr>\n",
       "      <th>upper-middle income, senior</th>\n",
       "      <td>0.767501</td>\n",
       "      <td>0.039730</td>\n",
       "      <td>0.192769</td>\n",
       "    </tr>\n",
       "    <tr>\n",
       "      <th>upper-middle income, young adult</th>\n",
       "      <td>0.760635</td>\n",
       "      <td>0.042204</td>\n",
       "      <td>0.197161</td>\n",
       "    </tr>\n",
       "  </tbody>\n",
       "</table>\n",
       "</div>"
      ],
      "text/plain": [
       "frequency_flag                    Frequent customer  Non-frequent customer  \\\n",
       "customer_profile                                                             \n",
       "high-income, adult                         0.757884               0.046250   \n",
       "high-income, senior                        0.790617               0.036096   \n",
       "high-income, young adult                   0.776606               0.018330   \n",
       "low-income, adult                          0.754265               0.048119   \n",
       "low-income, senior                         0.770364               0.056799   \n",
       "low-income, young adult                    0.764527               0.046286   \n",
       "lower-middle income, adult                 0.758623               0.047429   \n",
       "lower-middle income, senior                0.782525               0.049749   \n",
       "lower-middle income, young adult           0.793090               0.041629   \n",
       "upper-middle income, adult                 0.764375               0.044596   \n",
       "upper-middle income, senior                0.767501               0.039730   \n",
       "upper-middle income, young adult           0.760635               0.042204   \n",
       "\n",
       "frequency_flag                    Regular customer  \n",
       "customer_profile                                    \n",
       "high-income, adult                        0.195867  \n",
       "high-income, senior                       0.173287  \n",
       "high-income, young adult                  0.205064  \n",
       "low-income, adult                         0.197616  \n",
       "low-income, senior                        0.172837  \n",
       "low-income, young adult                   0.189186  \n",
       "lower-middle income, adult                0.193948  \n",
       "lower-middle income, senior               0.167726  \n",
       "lower-middle income, young adult          0.165281  \n",
       "upper-middle income, adult                0.191029  \n",
       "upper-middle income, senior               0.192769  \n",
       "upper-middle income, young adult          0.197161  "
      ]
     },
     "execution_count": 239,
     "metadata": {},
     "output_type": "execute_result"
    }
   ],
   "source": [
    "# profile of active customers\n",
    "ne_activity = pd.crosstab(df_ne['customer_profile'], df_ne['frequency_flag'], normalize = 'index')\n",
    "ne_activity"
   ]
  },
  {
   "cell_type": "markdown",
   "id": "8c81f1b1",
   "metadata": {},
   "source": [
    "#### 8.1.4. Brand loyalty"
   ]
  },
  {
   "cell_type": "code",
   "execution_count": 240,
   "id": "cad278f4",
   "metadata": {},
   "outputs": [
    {
     "data": {
      "text/plain": [
       "count    4.315271e+06\n",
       "mean     3.865876e+01\n",
       "std      2.499140e+01\n",
       "min      5.000000e+00\n",
       "25%      1.900000e+01\n",
       "50%      3.300000e+01\n",
       "75%      5.300000e+01\n",
       "max      9.900000e+01\n",
       "Name: max_order, dtype: float64"
      ]
     },
     "execution_count": 240,
     "metadata": {},
     "output_type": "execute_result"
    }
   ],
   "source": [
    "# region brand loyalty statistics\n",
    "df_ne['max_order'].describe()"
   ]
  },
  {
   "cell_type": "code",
   "execution_count": 241,
   "id": "586072e1",
   "metadata": {},
   "outputs": [
    {
     "data": {
      "text/plain": [
       "loyalty_flag\n",
       "Regular customer    2234113\n",
       "Loyal customer      1710886\n",
       "New customer         370272\n",
       "Name: count, dtype: int64"
      ]
     },
     "execution_count": 241,
     "metadata": {},
     "output_type": "execute_result"
    }
   ],
   "source": [
    "# customer brand loyalty\n",
    "df_ne['loyalty_flag'].value_counts(dropna=False)"
   ]
  },
  {
   "cell_type": "code",
   "execution_count": 242,
   "id": "130f5e5d",
   "metadata": {},
   "outputs": [
    {
     "data": {
      "text/html": [
       "<div>\n",
       "<style scoped>\n",
       "    .dataframe tbody tr th:only-of-type {\n",
       "        vertical-align: middle;\n",
       "    }\n",
       "\n",
       "    .dataframe tbody tr th {\n",
       "        vertical-align: top;\n",
       "    }\n",
       "\n",
       "    .dataframe thead th {\n",
       "        text-align: right;\n",
       "    }\n",
       "</style>\n",
       "<table border=\"1\" class=\"dataframe\">\n",
       "  <thead>\n",
       "    <tr style=\"text-align: right;\">\n",
       "      <th>loyalty_flag</th>\n",
       "      <th>Loyal customer</th>\n",
       "      <th>New customer</th>\n",
       "      <th>Regular customer</th>\n",
       "    </tr>\n",
       "    <tr>\n",
       "      <th>customer_profile</th>\n",
       "      <th></th>\n",
       "      <th></th>\n",
       "      <th></th>\n",
       "    </tr>\n",
       "  </thead>\n",
       "  <tbody>\n",
       "    <tr>\n",
       "      <th>high-income, adult</th>\n",
       "      <td>0.376185</td>\n",
       "      <td>0.086884</td>\n",
       "      <td>0.536931</td>\n",
       "    </tr>\n",
       "    <tr>\n",
       "      <th>high-income, senior</th>\n",
       "      <td>0.427699</td>\n",
       "      <td>0.082654</td>\n",
       "      <td>0.489647</td>\n",
       "    </tr>\n",
       "    <tr>\n",
       "      <th>high-income, young adult</th>\n",
       "      <td>0.491626</td>\n",
       "      <td>0.068706</td>\n",
       "      <td>0.439668</td>\n",
       "    </tr>\n",
       "    <tr>\n",
       "      <th>low-income, adult</th>\n",
       "      <td>0.388132</td>\n",
       "      <td>0.092734</td>\n",
       "      <td>0.519134</td>\n",
       "    </tr>\n",
       "    <tr>\n",
       "      <th>low-income, senior</th>\n",
       "      <td>0.402473</td>\n",
       "      <td>0.099883</td>\n",
       "      <td>0.497644</td>\n",
       "    </tr>\n",
       "    <tr>\n",
       "      <th>low-income, young adult</th>\n",
       "      <td>0.393456</td>\n",
       "      <td>0.089665</td>\n",
       "      <td>0.516878</td>\n",
       "    </tr>\n",
       "    <tr>\n",
       "      <th>lower-middle income, adult</th>\n",
       "      <td>0.365743</td>\n",
       "      <td>0.088928</td>\n",
       "      <td>0.545329</td>\n",
       "    </tr>\n",
       "    <tr>\n",
       "      <th>lower-middle income, senior</th>\n",
       "      <td>0.453041</td>\n",
       "      <td>0.078814</td>\n",
       "      <td>0.468145</td>\n",
       "    </tr>\n",
       "    <tr>\n",
       "      <th>lower-middle income, young adult</th>\n",
       "      <td>0.415445</td>\n",
       "      <td>0.077768</td>\n",
       "      <td>0.506787</td>\n",
       "    </tr>\n",
       "    <tr>\n",
       "      <th>upper-middle income, adult</th>\n",
       "      <td>0.398944</td>\n",
       "      <td>0.081631</td>\n",
       "      <td>0.519425</td>\n",
       "    </tr>\n",
       "    <tr>\n",
       "      <th>upper-middle income, senior</th>\n",
       "      <td>0.401645</td>\n",
       "      <td>0.081204</td>\n",
       "      <td>0.517152</td>\n",
       "    </tr>\n",
       "    <tr>\n",
       "      <th>upper-middle income, young adult</th>\n",
       "      <td>0.356649</td>\n",
       "      <td>0.103067</td>\n",
       "      <td>0.540285</td>\n",
       "    </tr>\n",
       "  </tbody>\n",
       "</table>\n",
       "</div>"
      ],
      "text/plain": [
       "loyalty_flag                      Loyal customer  New customer  \\\n",
       "customer_profile                                                 \n",
       "high-income, adult                      0.376185      0.086884   \n",
       "high-income, senior                     0.427699      0.082654   \n",
       "high-income, young adult                0.491626      0.068706   \n",
       "low-income, adult                       0.388132      0.092734   \n",
       "low-income, senior                      0.402473      0.099883   \n",
       "low-income, young adult                 0.393456      0.089665   \n",
       "lower-middle income, adult              0.365743      0.088928   \n",
       "lower-middle income, senior             0.453041      0.078814   \n",
       "lower-middle income, young adult        0.415445      0.077768   \n",
       "upper-middle income, adult              0.398944      0.081631   \n",
       "upper-middle income, senior             0.401645      0.081204   \n",
       "upper-middle income, young adult        0.356649      0.103067   \n",
       "\n",
       "loyalty_flag                      Regular customer  \n",
       "customer_profile                                    \n",
       "high-income, adult                        0.536931  \n",
       "high-income, senior                       0.489647  \n",
       "high-income, young adult                  0.439668  \n",
       "low-income, adult                         0.519134  \n",
       "low-income, senior                        0.497644  \n",
       "low-income, young adult                   0.516878  \n",
       "lower-middle income, adult                0.545329  \n",
       "lower-middle income, senior               0.468145  \n",
       "lower-middle income, young adult          0.506787  \n",
       "upper-middle income, adult                0.519425  \n",
       "upper-middle income, senior               0.517152  \n",
       "upper-middle income, young adult          0.540285  "
      ]
     },
     "execution_count": 242,
     "metadata": {},
     "output_type": "execute_result"
    }
   ],
   "source": [
    "# brand loyalty by customer profile\n",
    "ne_brand = pd.crosstab(df_ne['customer_profile'], df_ne['loyalty_flag'], normalize = 'index')\n",
    "ne_brand"
   ]
  },
  {
   "cell_type": "markdown",
   "id": "216d1b56",
   "metadata": {},
   "source": [
    "#### 8.1.5. Product preferences"
   ]
  },
  {
   "cell_type": "code",
   "execution_count": 243,
   "id": "8ca64faa",
   "metadata": {},
   "outputs": [
    {
     "data": {
      "text/plain": [
       "department_id\n",
       "4     1269360\n",
       "16     729754\n",
       "19     389733\n",
       "7      367868\n",
       "1      283259\n",
       "Name: count, dtype: int64"
      ]
     },
     "execution_count": 243,
     "metadata": {},
     "output_type": "execute_result"
    }
   ],
   "source": [
    "# region highest frequency departments\n",
    "df_ne['department_id'].value_counts(dropna = False).head(5)"
   ]
  },
  {
   "cell_type": "code",
   "execution_count": 246,
   "id": "086a9660",
   "metadata": {},
   "outputs": [
    {
     "data": {
      "text/plain": [
       "product_name\n",
       "Banana                    63398\n",
       "Bag of Organic Bananas    53545\n",
       "Organic Strawberries      35818\n",
       "Organic Baby Spinach      32368\n",
       "Organic Hass Avocado      30013\n",
       "Organic Avocado           22614\n",
       "Large Lemon               20794\n",
       "Organic Whole Milk        19805\n",
       "Organic Raspberries       19723\n",
       "Strawberries              18856\n",
       "Name: count, dtype: int64"
      ]
     },
     "execution_count": 246,
     "metadata": {},
     "output_type": "execute_result"
    }
   ],
   "source": [
    "# most popular products \n",
    "df_ne['product_name'].value_counts(dropna=False).head(10)"
   ]
  },
  {
   "cell_type": "code",
   "execution_count": 142,
   "id": "556df19f",
   "metadata": {},
   "outputs": [
    {
     "data": {
      "text/plain": [
       "product_name\n",
       "Cheese Corn Thins                                1\n",
       "Organic Tamari Dry Roasted Almonds               1\n",
       "The Original Slaw Dressing                       1\n",
       "Organic Irish-Style Oatmeal High Fiber Cereal    1\n",
       "Whole Wheat Mini Toasts                          1\n",
       "Irish Steel Cut Oatmeal                          1\n",
       "Red Velvet Cake With Cream Cheese Icing          1\n",
       "Seitan Chops                                     1\n",
       "Classic Roasted Vegetable Demi Glace             1\n",
       "Sport Panty Liners                               1\n",
       "Name: count, dtype: int64"
      ]
     },
     "execution_count": 142,
     "metadata": {},
     "output_type": "execute_result"
    }
   ],
   "source": [
    "# least popular products\n",
    "df_ne['product_name'].value_counts(dropna=False).tail(10)"
   ]
  },
  {
   "cell_type": "markdown",
   "id": "d3720fc9",
   "metadata": {},
   "source": [
    "#### 8.2. Midwest region"
   ]
  },
  {
   "cell_type": "code",
   "execution_count": 305,
   "id": "85b4e0c8",
   "metadata": {},
   "outputs": [],
   "source": [
    "# subset of the dataframe for the Northeast region\n",
    "df_mw = df[df['region'] == 'Midwest']"
   ]
  },
  {
   "cell_type": "code",
   "execution_count": 306,
   "id": "bf330c87",
   "metadata": {},
   "outputs": [
    {
     "data": {
      "text/plain": [
       "5711756"
      ]
     },
     "execution_count": 306,
     "metadata": {},
     "output_type": "execute_result"
    }
   ],
   "source": [
    "# customer count in the region\n",
    "df_mw['user_id'].value_counts().sum()"
   ]
  },
  {
   "cell_type": "markdown",
   "id": "04aca9f0",
   "metadata": {},
   "source": [
    "#### 8.2.1. Demographic outlook"
   ]
  },
  {
   "cell_type": "code",
   "execution_count": 251,
   "id": "17bf635c",
   "metadata": {},
   "outputs": [
    {
     "data": {
      "text/plain": [
       "customer_profile\n",
       "high-income, adult                  873489\n",
       "upper-middle income, adult          848009\n",
       "low-income, adult                   721424\n",
       "lower-middle income, adult          707850\n",
       "high-income, senior                 575095\n",
       "upper-middle income, senior         538439\n",
       "lower-middle income, young adult    496120\n",
       "low-income, young adult             479058\n",
       "lower-middle income, senior         200167\n",
       "low-income, senior                  179051\n",
       "upper-middle income, young adult     79688\n",
       "high-income, young adult             13366\n",
       "Name: count, dtype: int64"
      ]
     },
     "execution_count": 251,
     "metadata": {},
     "output_type": "execute_result"
    }
   ],
   "source": [
    "# customer profile\n",
    "df_mw['customer_profile'].value_counts()"
   ]
  },
  {
   "cell_type": "code",
   "execution_count": 252,
   "id": "b86bf9ba",
   "metadata": {},
   "outputs": [
    {
     "data": {
      "text/plain": [
       "family_status\n",
       "married                             3998815\n",
       "single                               951799\n",
       "divorced/widowed                     485162\n",
       "living with parents and siblings     275980\n",
       "Name: count, dtype: int64"
      ]
     },
     "execution_count": 252,
     "metadata": {},
     "output_type": "execute_result"
    }
   ],
   "source": [
    "# prevailing family status\n",
    "df_mw['family_status'].value_counts()"
   ]
  },
  {
   "cell_type": "code",
   "execution_count": 253,
   "id": "da588be6",
   "metadata": {},
   "outputs": [
    {
     "data": {
      "text/plain": [
       "number_of_dependents\n",
       "1    1454448\n",
       "0    1436961\n",
       "2    1419131\n",
       "3    1401216\n",
       "Name: count, dtype: int64"
      ]
     },
     "execution_count": 253,
     "metadata": {},
     "output_type": "execute_result"
    }
   ],
   "source": [
    "# number of dependents\n",
    "df_mw['number_of_dependents'].value_counts()"
   ]
  },
  {
   "cell_type": "markdown",
   "id": "b324cd9d",
   "metadata": {},
   "source": [
    "#### 8.2.2. Spending habits "
   ]
  },
  {
   "cell_type": "code",
   "execution_count": 254,
   "id": "74d13341",
   "metadata": {
    "scrolled": false
   },
   "outputs": [
    {
     "data": {
      "text/plain": [
       "spending_flag\n",
       "Low spender     5592548\n",
       "High spender     119208\n",
       "Name: count, dtype: int64"
      ]
     },
     "execution_count": 254,
     "metadata": {},
     "output_type": "execute_result"
    }
   ],
   "source": [
    "# customer spending habits\n",
    "df_mw['spending_flag'].value_counts(dropna = False)"
   ]
  },
  {
   "cell_type": "code",
   "execution_count": 255,
   "id": "1f13226e",
   "metadata": {
    "scrolled": true
   },
   "outputs": [
    {
     "data": {
      "text/html": [
       "<div>\n",
       "<style scoped>\n",
       "    .dataframe tbody tr th:only-of-type {\n",
       "        vertical-align: middle;\n",
       "    }\n",
       "\n",
       "    .dataframe tbody tr th {\n",
       "        vertical-align: top;\n",
       "    }\n",
       "\n",
       "    .dataframe thead th {\n",
       "        text-align: right;\n",
       "    }\n",
       "</style>\n",
       "<table border=\"1\" class=\"dataframe\">\n",
       "  <thead>\n",
       "    <tr style=\"text-align: right;\">\n",
       "      <th>spending_flag</th>\n",
       "      <th>High spender</th>\n",
       "      <th>Low spender</th>\n",
       "    </tr>\n",
       "    <tr>\n",
       "      <th>customer_profile</th>\n",
       "      <th></th>\n",
       "      <th></th>\n",
       "    </tr>\n",
       "  </thead>\n",
       "  <tbody>\n",
       "    <tr>\n",
       "      <th>high-income, adult</th>\n",
       "      <td>0.059586</td>\n",
       "      <td>0.940414</td>\n",
       "    </tr>\n",
       "    <tr>\n",
       "      <th>high-income, senior</th>\n",
       "      <td>0.047246</td>\n",
       "      <td>0.952754</td>\n",
       "    </tr>\n",
       "    <tr>\n",
       "      <th>high-income, young adult</th>\n",
       "      <td>1.000000</td>\n",
       "      <td>0.000000</td>\n",
       "    </tr>\n",
       "    <tr>\n",
       "      <th>low-income, adult</th>\n",
       "      <td>0.002040</td>\n",
       "      <td>0.997960</td>\n",
       "    </tr>\n",
       "    <tr>\n",
       "      <th>low-income, senior</th>\n",
       "      <td>0.000084</td>\n",
       "      <td>0.999916</td>\n",
       "    </tr>\n",
       "    <tr>\n",
       "      <th>low-income, young adult</th>\n",
       "      <td>0.004655</td>\n",
       "      <td>0.995345</td>\n",
       "    </tr>\n",
       "    <tr>\n",
       "      <th>lower-middle income, adult</th>\n",
       "      <td>0.003807</td>\n",
       "      <td>0.996193</td>\n",
       "    </tr>\n",
       "    <tr>\n",
       "      <th>lower-middle income, senior</th>\n",
       "      <td>0.013963</td>\n",
       "      <td>0.986037</td>\n",
       "    </tr>\n",
       "    <tr>\n",
       "      <th>lower-middle income, young adult</th>\n",
       "      <td>0.005283</td>\n",
       "      <td>0.994717</td>\n",
       "    </tr>\n",
       "    <tr>\n",
       "      <th>upper-middle income, adult</th>\n",
       "      <td>0.009350</td>\n",
       "      <td>0.990650</td>\n",
       "    </tr>\n",
       "    <tr>\n",
       "      <th>upper-middle income, senior</th>\n",
       "      <td>0.007535</td>\n",
       "      <td>0.992465</td>\n",
       "    </tr>\n",
       "    <tr>\n",
       "      <th>upper-middle income, young adult</th>\n",
       "      <td>0.035250</td>\n",
       "      <td>0.964750</td>\n",
       "    </tr>\n",
       "  </tbody>\n",
       "</table>\n",
       "</div>"
      ],
      "text/plain": [
       "spending_flag                     High spender  Low spender\n",
       "customer_profile                                           \n",
       "high-income, adult                    0.059586     0.940414\n",
       "high-income, senior                   0.047246     0.952754\n",
       "high-income, young adult              1.000000     0.000000\n",
       "low-income, adult                     0.002040     0.997960\n",
       "low-income, senior                    0.000084     0.999916\n",
       "low-income, young adult               0.004655     0.995345\n",
       "lower-middle income, adult            0.003807     0.996193\n",
       "lower-middle income, senior           0.013963     0.986037\n",
       "lower-middle income, young adult      0.005283     0.994717\n",
       "upper-middle income, adult            0.009350     0.990650\n",
       "upper-middle income, senior           0.007535     0.992465\n",
       "upper-middle income, young adult      0.035250     0.964750"
      ]
     },
     "execution_count": 255,
     "metadata": {},
     "output_type": "execute_result"
    }
   ],
   "source": [
    "# proportion of customer spending habits by customer profile\n",
    "mw_profile = pd.crosstab(df_mw['customer_profile'], df_mw['spending_flag'], normalize = 'index')\n",
    "mw_profile"
   ]
  },
  {
   "cell_type": "code",
   "execution_count": 256,
   "id": "d82b88ca",
   "metadata": {},
   "outputs": [
    {
     "data": {
      "text/html": [
       "<div>\n",
       "<style scoped>\n",
       "    .dataframe tbody tr th:only-of-type {\n",
       "        vertical-align: middle;\n",
       "    }\n",
       "\n",
       "    .dataframe tbody tr th {\n",
       "        vertical-align: top;\n",
       "    }\n",
       "\n",
       "    .dataframe thead th {\n",
       "        text-align: right;\n",
       "    }\n",
       "</style>\n",
       "<table border=\"1\" class=\"dataframe\">\n",
       "  <thead>\n",
       "    <tr style=\"text-align: right;\">\n",
       "      <th>price_range_loc</th>\n",
       "      <th>High range product</th>\n",
       "      <th>Low range product</th>\n",
       "      <th>Mid range product</th>\n",
       "    </tr>\n",
       "    <tr>\n",
       "      <th>customer_profile</th>\n",
       "      <th></th>\n",
       "      <th></th>\n",
       "      <th></th>\n",
       "    </tr>\n",
       "  </thead>\n",
       "  <tbody>\n",
       "    <tr>\n",
       "      <th>high-income, adult</th>\n",
       "      <td>0.014068</td>\n",
       "      <td>0.300020</td>\n",
       "      <td>0.685912</td>\n",
       "    </tr>\n",
       "    <tr>\n",
       "      <th>high-income, senior</th>\n",
       "      <td>0.013719</td>\n",
       "      <td>0.297883</td>\n",
       "      <td>0.688398</td>\n",
       "    </tr>\n",
       "    <tr>\n",
       "      <th>high-income, young adult</th>\n",
       "      <td>0.027383</td>\n",
       "      <td>0.282283</td>\n",
       "      <td>0.690334</td>\n",
       "    </tr>\n",
       "    <tr>\n",
       "      <th>low-income, adult</th>\n",
       "      <td>0.008766</td>\n",
       "      <td>0.363047</td>\n",
       "      <td>0.628187</td>\n",
       "    </tr>\n",
       "    <tr>\n",
       "      <th>low-income, senior</th>\n",
       "      <td>0.004965</td>\n",
       "      <td>0.410687</td>\n",
       "      <td>0.584347</td>\n",
       "    </tr>\n",
       "    <tr>\n",
       "      <th>low-income, young adult</th>\n",
       "      <td>0.011631</td>\n",
       "      <td>0.327489</td>\n",
       "      <td>0.660880</td>\n",
       "    </tr>\n",
       "    <tr>\n",
       "      <th>lower-middle income, adult</th>\n",
       "      <td>0.013153</td>\n",
       "      <td>0.296963</td>\n",
       "      <td>0.689885</td>\n",
       "    </tr>\n",
       "    <tr>\n",
       "      <th>lower-middle income, senior</th>\n",
       "      <td>0.013119</td>\n",
       "      <td>0.295179</td>\n",
       "      <td>0.691702</td>\n",
       "    </tr>\n",
       "    <tr>\n",
       "      <th>lower-middle income, young adult</th>\n",
       "      <td>0.013487</td>\n",
       "      <td>0.297267</td>\n",
       "      <td>0.689247</td>\n",
       "    </tr>\n",
       "    <tr>\n",
       "      <th>upper-middle income, adult</th>\n",
       "      <td>0.013737</td>\n",
       "      <td>0.297686</td>\n",
       "      <td>0.688578</td>\n",
       "    </tr>\n",
       "    <tr>\n",
       "      <th>upper-middle income, senior</th>\n",
       "      <td>0.013184</td>\n",
       "      <td>0.299906</td>\n",
       "      <td>0.686910</td>\n",
       "    </tr>\n",
       "    <tr>\n",
       "      <th>upper-middle income, young adult</th>\n",
       "      <td>0.015849</td>\n",
       "      <td>0.299305</td>\n",
       "      <td>0.684846</td>\n",
       "    </tr>\n",
       "  </tbody>\n",
       "</table>\n",
       "</div>"
      ],
      "text/plain": [
       "price_range_loc                   High range product  Low range product  \\\n",
       "customer_profile                                                          \n",
       "high-income, adult                          0.014068           0.300020   \n",
       "high-income, senior                         0.013719           0.297883   \n",
       "high-income, young adult                    0.027383           0.282283   \n",
       "low-income, adult                           0.008766           0.363047   \n",
       "low-income, senior                          0.004965           0.410687   \n",
       "low-income, young adult                     0.011631           0.327489   \n",
       "lower-middle income, adult                  0.013153           0.296963   \n",
       "lower-middle income, senior                 0.013119           0.295179   \n",
       "lower-middle income, young adult            0.013487           0.297267   \n",
       "upper-middle income, adult                  0.013737           0.297686   \n",
       "upper-middle income, senior                 0.013184           0.299906   \n",
       "upper-middle income, young adult            0.015849           0.299305   \n",
       "\n",
       "price_range_loc                   Mid range product  \n",
       "customer_profile                                     \n",
       "high-income, adult                         0.685912  \n",
       "high-income, senior                        0.688398  \n",
       "high-income, young adult                   0.690334  \n",
       "low-income, adult                          0.628187  \n",
       "low-income, senior                         0.584347  \n",
       "low-income, young adult                    0.660880  \n",
       "lower-middle income, adult                 0.689885  \n",
       "lower-middle income, senior                0.691702  \n",
       "lower-middle income, young adult           0.689247  \n",
       "upper-middle income, adult                 0.688578  \n",
       "upper-middle income, senior                0.686910  \n",
       "upper-middle income, young adult           0.684846  "
      ]
     },
     "execution_count": 256,
     "metadata": {},
     "output_type": "execute_result"
    }
   ],
   "source": [
    "# product price ranges customers spend prefer\n",
    "mw_prepri = pd.crosstab(df_mw['customer_profile'], df_mw['price_range_loc'], normalize = 'index')\n",
    "mw_prepri"
   ]
  },
  {
   "cell_type": "markdown",
   "id": "8d530979",
   "metadata": {},
   "source": [
    "#### 8.2.3. Ordering habits"
   ]
  },
  {
   "cell_type": "code",
   "execution_count": 257,
   "id": "4ea817ce",
   "metadata": {},
   "outputs": [
    {
     "data": {
      "text/plain": [
       "count    5.711756e+06\n",
       "mean     8.573072e+00\n",
       "std      5.324106e+00\n",
       "min      0.000000e+00\n",
       "25%      5.000000e+00\n",
       "50%      7.000000e+00\n",
       "75%      1.000000e+01\n",
       "max      3.000000e+01\n",
       "Name: median_order, dtype: float64"
      ]
     },
     "execution_count": 257,
     "metadata": {},
     "output_type": "execute_result"
    }
   ],
   "source": [
    "# region ordering statistics\n",
    "df_mw['median_order'].describe()"
   ]
  },
  {
   "cell_type": "code",
   "execution_count": 258,
   "id": "a9ef67b1",
   "metadata": {},
   "outputs": [
    {
     "data": {
      "text/plain": [
       "frequency_flag\n",
       "Frequent customer        4358012\n",
       "Regular customer         1088022\n",
       "Non-frequent customer     265722\n",
       "Name: count, dtype: int64"
      ]
     },
     "execution_count": 258,
     "metadata": {},
     "output_type": "execute_result"
    }
   ],
   "source": [
    "# customer ordering habits\n",
    "df_mw['frequency_flag'].value_counts(dropna=False)"
   ]
  },
  {
   "cell_type": "code",
   "execution_count": 259,
   "id": "da0210c4",
   "metadata": {},
   "outputs": [
    {
     "data": {
      "text/html": [
       "<div>\n",
       "<style scoped>\n",
       "    .dataframe tbody tr th:only-of-type {\n",
       "        vertical-align: middle;\n",
       "    }\n",
       "\n",
       "    .dataframe tbody tr th {\n",
       "        vertical-align: top;\n",
       "    }\n",
       "\n",
       "    .dataframe thead th {\n",
       "        text-align: right;\n",
       "    }\n",
       "</style>\n",
       "<table border=\"1\" class=\"dataframe\">\n",
       "  <thead>\n",
       "    <tr style=\"text-align: right;\">\n",
       "      <th>frequency_flag</th>\n",
       "      <th>Frequent customer</th>\n",
       "      <th>Non-frequent customer</th>\n",
       "      <th>Regular customer</th>\n",
       "    </tr>\n",
       "    <tr>\n",
       "      <th>customer_profile</th>\n",
       "      <th></th>\n",
       "      <th></th>\n",
       "      <th></th>\n",
       "    </tr>\n",
       "  </thead>\n",
       "  <tbody>\n",
       "    <tr>\n",
       "      <th>high-income, adult</th>\n",
       "      <td>0.778082</td>\n",
       "      <td>0.043558</td>\n",
       "      <td>0.178361</td>\n",
       "    </tr>\n",
       "    <tr>\n",
       "      <th>high-income, senior</th>\n",
       "      <td>0.756958</td>\n",
       "      <td>0.045358</td>\n",
       "      <td>0.197684</td>\n",
       "    </tr>\n",
       "    <tr>\n",
       "      <th>high-income, young adult</th>\n",
       "      <td>0.767170</td>\n",
       "      <td>0.043169</td>\n",
       "      <td>0.189660</td>\n",
       "    </tr>\n",
       "    <tr>\n",
       "      <th>low-income, adult</th>\n",
       "      <td>0.755252</td>\n",
       "      <td>0.053609</td>\n",
       "      <td>0.191139</td>\n",
       "    </tr>\n",
       "    <tr>\n",
       "      <th>low-income, senior</th>\n",
       "      <td>0.732875</td>\n",
       "      <td>0.063004</td>\n",
       "      <td>0.204121</td>\n",
       "    </tr>\n",
       "    <tr>\n",
       "      <th>low-income, young adult</th>\n",
       "      <td>0.755721</td>\n",
       "      <td>0.050608</td>\n",
       "      <td>0.193672</td>\n",
       "    </tr>\n",
       "    <tr>\n",
       "      <th>lower-middle income, adult</th>\n",
       "      <td>0.763314</td>\n",
       "      <td>0.040880</td>\n",
       "      <td>0.195806</td>\n",
       "    </tr>\n",
       "    <tr>\n",
       "      <th>lower-middle income, senior</th>\n",
       "      <td>0.778335</td>\n",
       "      <td>0.044952</td>\n",
       "      <td>0.176712</td>\n",
       "    </tr>\n",
       "    <tr>\n",
       "      <th>lower-middle income, young adult</th>\n",
       "      <td>0.762836</td>\n",
       "      <td>0.042556</td>\n",
       "      <td>0.194608</td>\n",
       "    </tr>\n",
       "    <tr>\n",
       "      <th>upper-middle income, adult</th>\n",
       "      <td>0.773386</td>\n",
       "      <td>0.046788</td>\n",
       "      <td>0.179826</td>\n",
       "    </tr>\n",
       "    <tr>\n",
       "      <th>upper-middle income, senior</th>\n",
       "      <td>0.752132</td>\n",
       "      <td>0.046169</td>\n",
       "      <td>0.201700</td>\n",
       "    </tr>\n",
       "    <tr>\n",
       "      <th>upper-middle income, young adult</th>\n",
       "      <td>0.744077</td>\n",
       "      <td>0.040521</td>\n",
       "      <td>0.215403</td>\n",
       "    </tr>\n",
       "  </tbody>\n",
       "</table>\n",
       "</div>"
      ],
      "text/plain": [
       "frequency_flag                    Frequent customer  Non-frequent customer  \\\n",
       "customer_profile                                                             \n",
       "high-income, adult                         0.778082               0.043558   \n",
       "high-income, senior                        0.756958               0.045358   \n",
       "high-income, young adult                   0.767170               0.043169   \n",
       "low-income, adult                          0.755252               0.053609   \n",
       "low-income, senior                         0.732875               0.063004   \n",
       "low-income, young adult                    0.755721               0.050608   \n",
       "lower-middle income, adult                 0.763314               0.040880   \n",
       "lower-middle income, senior                0.778335               0.044952   \n",
       "lower-middle income, young adult           0.762836               0.042556   \n",
       "upper-middle income, adult                 0.773386               0.046788   \n",
       "upper-middle income, senior                0.752132               0.046169   \n",
       "upper-middle income, young adult           0.744077               0.040521   \n",
       "\n",
       "frequency_flag                    Regular customer  \n",
       "customer_profile                                    \n",
       "high-income, adult                        0.178361  \n",
       "high-income, senior                       0.197684  \n",
       "high-income, young adult                  0.189660  \n",
       "low-income, adult                         0.191139  \n",
       "low-income, senior                        0.204121  \n",
       "low-income, young adult                   0.193672  \n",
       "lower-middle income, adult                0.195806  \n",
       "lower-middle income, senior               0.176712  \n",
       "lower-middle income, young adult          0.194608  \n",
       "upper-middle income, adult                0.179826  \n",
       "upper-middle income, senior               0.201700  \n",
       "upper-middle income, young adult          0.215403  "
      ]
     },
     "execution_count": 259,
     "metadata": {},
     "output_type": "execute_result"
    }
   ],
   "source": [
    "# profile of active customers\n",
    "mw_activity = pd.crosstab(df_mw['customer_profile'], df_mw['frequency_flag'], normalize = 'index')\n",
    "mw_activity"
   ]
  },
  {
   "cell_type": "markdown",
   "id": "0feaa294",
   "metadata": {},
   "source": [
    "#### 8.2.4. Brand loyalty"
   ]
  },
  {
   "cell_type": "code",
   "execution_count": 260,
   "id": "2e0a6216",
   "metadata": {},
   "outputs": [
    {
     "data": {
      "text/plain": [
       "count    5.711756e+06\n",
       "mean     3.795887e+01\n",
       "std      2.471938e+01\n",
       "min      5.000000e+00\n",
       "25%      1.800000e+01\n",
       "50%      3.200000e+01\n",
       "75%      5.100000e+01\n",
       "max      9.900000e+01\n",
       "Name: max_order, dtype: float64"
      ]
     },
     "execution_count": 260,
     "metadata": {},
     "output_type": "execute_result"
    }
   ],
   "source": [
    "# region brand loyalty statistics\n",
    "df_mw['max_order'].describe()"
   ]
  },
  {
   "cell_type": "code",
   "execution_count": 261,
   "id": "20363f6c",
   "metadata": {},
   "outputs": [
    {
     "data": {
      "text/plain": [
       "loyalty_flag\n",
       "Regular customer    3007553\n",
       "Loyal customer      2204617\n",
       "New customer         499586\n",
       "Name: count, dtype: int64"
      ]
     },
     "execution_count": 261,
     "metadata": {},
     "output_type": "execute_result"
    }
   ],
   "source": [
    "# customer brand loyalty\n",
    "df_mw['loyalty_flag'].value_counts(dropna=False)"
   ]
  },
  {
   "cell_type": "code",
   "execution_count": 262,
   "id": "f6bd05ff",
   "metadata": {},
   "outputs": [
    {
     "data": {
      "text/html": [
       "<div>\n",
       "<style scoped>\n",
       "    .dataframe tbody tr th:only-of-type {\n",
       "        vertical-align: middle;\n",
       "    }\n",
       "\n",
       "    .dataframe tbody tr th {\n",
       "        vertical-align: top;\n",
       "    }\n",
       "\n",
       "    .dataframe thead th {\n",
       "        text-align: right;\n",
       "    }\n",
       "</style>\n",
       "<table border=\"1\" class=\"dataframe\">\n",
       "  <thead>\n",
       "    <tr style=\"text-align: right;\">\n",
       "      <th>loyalty_flag</th>\n",
       "      <th>Loyal customer</th>\n",
       "      <th>New customer</th>\n",
       "      <th>Regular customer</th>\n",
       "    </tr>\n",
       "    <tr>\n",
       "      <th>customer_profile</th>\n",
       "      <th></th>\n",
       "      <th></th>\n",
       "      <th></th>\n",
       "    </tr>\n",
       "  </thead>\n",
       "  <tbody>\n",
       "    <tr>\n",
       "      <th>high-income, adult</th>\n",
       "      <td>0.396346</td>\n",
       "      <td>0.083876</td>\n",
       "      <td>0.519778</td>\n",
       "    </tr>\n",
       "    <tr>\n",
       "      <th>high-income, senior</th>\n",
       "      <td>0.372698</td>\n",
       "      <td>0.086711</td>\n",
       "      <td>0.540591</td>\n",
       "    </tr>\n",
       "    <tr>\n",
       "      <th>high-income, young adult</th>\n",
       "      <td>0.397651</td>\n",
       "      <td>0.066063</td>\n",
       "      <td>0.536286</td>\n",
       "    </tr>\n",
       "    <tr>\n",
       "      <th>low-income, adult</th>\n",
       "      <td>0.391406</td>\n",
       "      <td>0.095284</td>\n",
       "      <td>0.513310</td>\n",
       "    </tr>\n",
       "    <tr>\n",
       "      <th>low-income, senior</th>\n",
       "      <td>0.339490</td>\n",
       "      <td>0.110594</td>\n",
       "      <td>0.549916</td>\n",
       "    </tr>\n",
       "    <tr>\n",
       "      <th>low-income, young adult</th>\n",
       "      <td>0.363401</td>\n",
       "      <td>0.089795</td>\n",
       "      <td>0.546804</td>\n",
       "    </tr>\n",
       "    <tr>\n",
       "      <th>lower-middle income, adult</th>\n",
       "      <td>0.387795</td>\n",
       "      <td>0.083857</td>\n",
       "      <td>0.528348</td>\n",
       "    </tr>\n",
       "    <tr>\n",
       "      <th>lower-middle income, senior</th>\n",
       "      <td>0.414479</td>\n",
       "      <td>0.086258</td>\n",
       "      <td>0.499263</td>\n",
       "    </tr>\n",
       "    <tr>\n",
       "      <th>lower-middle income, young adult</th>\n",
       "      <td>0.382978</td>\n",
       "      <td>0.085993</td>\n",
       "      <td>0.531029</td>\n",
       "    </tr>\n",
       "    <tr>\n",
       "      <th>upper-middle income, adult</th>\n",
       "      <td>0.392649</td>\n",
       "      <td>0.084240</td>\n",
       "      <td>0.523111</td>\n",
       "    </tr>\n",
       "    <tr>\n",
       "      <th>upper-middle income, senior</th>\n",
       "      <td>0.391216</td>\n",
       "      <td>0.087327</td>\n",
       "      <td>0.521457</td>\n",
       "    </tr>\n",
       "    <tr>\n",
       "      <th>upper-middle income, young adult</th>\n",
       "      <td>0.381864</td>\n",
       "      <td>0.078669</td>\n",
       "      <td>0.539466</td>\n",
       "    </tr>\n",
       "  </tbody>\n",
       "</table>\n",
       "</div>"
      ],
      "text/plain": [
       "loyalty_flag                      Loyal customer  New customer  \\\n",
       "customer_profile                                                 \n",
       "high-income, adult                      0.396346      0.083876   \n",
       "high-income, senior                     0.372698      0.086711   \n",
       "high-income, young adult                0.397651      0.066063   \n",
       "low-income, adult                       0.391406      0.095284   \n",
       "low-income, senior                      0.339490      0.110594   \n",
       "low-income, young adult                 0.363401      0.089795   \n",
       "lower-middle income, adult              0.387795      0.083857   \n",
       "lower-middle income, senior             0.414479      0.086258   \n",
       "lower-middle income, young adult        0.382978      0.085993   \n",
       "upper-middle income, adult              0.392649      0.084240   \n",
       "upper-middle income, senior             0.391216      0.087327   \n",
       "upper-middle income, young adult        0.381864      0.078669   \n",
       "\n",
       "loyalty_flag                      Regular customer  \n",
       "customer_profile                                    \n",
       "high-income, adult                        0.519778  \n",
       "high-income, senior                       0.540591  \n",
       "high-income, young adult                  0.536286  \n",
       "low-income, adult                         0.513310  \n",
       "low-income, senior                        0.549916  \n",
       "low-income, young adult                   0.546804  \n",
       "lower-middle income, adult                0.528348  \n",
       "lower-middle income, senior               0.499263  \n",
       "lower-middle income, young adult          0.531029  \n",
       "upper-middle income, adult                0.523111  \n",
       "upper-middle income, senior               0.521457  \n",
       "upper-middle income, young adult          0.539466  "
      ]
     },
     "execution_count": 262,
     "metadata": {},
     "output_type": "execute_result"
    }
   ],
   "source": [
    "# brand loyalty by customer profile\n",
    "mw_brand = pd.crosstab(df_mw['customer_profile'], df_mw['loyalty_flag'], normalize = 'index')\n",
    "mw_brand"
   ]
  },
  {
   "cell_type": "markdown",
   "id": "6f319e3f",
   "metadata": {},
   "source": [
    "#### 8.2.5. Product preferences"
   ]
  },
  {
   "cell_type": "code",
   "execution_count": 327,
   "id": "17128b24",
   "metadata": {},
   "outputs": [
    {
     "data": {
      "text/plain": [
       "department_id\n",
       "4     1695851\n",
       "16     962300\n",
       "19     509148\n",
       "7      472243\n",
       "1      381094\n",
       "Name: count, dtype: int64"
      ]
     },
     "execution_count": 327,
     "metadata": {},
     "output_type": "execute_result"
    }
   ],
   "source": [
    "# region highest frequency departments\n",
    "df_mw['department_id'].value_counts(dropna = False).head(5)"
   ]
  },
  {
   "cell_type": "code",
   "execution_count": 328,
   "id": "128d5a13",
   "metadata": {},
   "outputs": [
    {
     "data": {
      "text/plain": [
       "product_name\n",
       "Banana                    83575\n",
       "Bag of Organic Bananas    71369\n",
       "Organic Strawberries      46982\n",
       "Organic Baby Spinach      42715\n",
       "Organic Hass Avocado      39170\n",
       "Organic Avocado           29048\n",
       "Large Lemon               28853\n",
       "Organic Raspberries       25822\n",
       "Strawberries              25415\n",
       "Limes                     25080\n",
       "Name: count, dtype: int64"
      ]
     },
     "execution_count": 328,
     "metadata": {},
     "output_type": "execute_result"
    }
   ],
   "source": [
    "# most popular products \n",
    "df_mw['product_name'].value_counts(dropna=False).head(10)"
   ]
  },
  {
   "cell_type": "code",
   "execution_count": 329,
   "id": "d0aa4c3c",
   "metadata": {},
   "outputs": [
    {
     "data": {
      "text/plain": [
       "product_name\n",
       "Organic Russian Caravan Tea                         1\n",
       "Pro-V Sheer Volume 2 In 1 Shampoo & Conditioner     1\n",
       "Wellness Herbal Resistance Liquid (Alcohol Free)    1\n",
       "Extra Strength Original Flavor Antacid Tablets      1\n",
       "Sesame Garlic Sauce & Glaze                         1\n",
       "Spinach & Cheese Ravioli                            1\n",
       "Pear Sparkling Juice Beverage                       1\n",
       "Clams Minced                                        1\n",
       "Methyl Folate 400 Mcg Vegetarian Capsules           1\n",
       "Stone Go To IPA                                     1\n",
       "Name: count, dtype: int64"
      ]
     },
     "execution_count": 329,
     "metadata": {},
     "output_type": "execute_result"
    }
   ],
   "source": [
    "# least popular products \n",
    "df_mw['product_name'].value_counts(dropna=False).tail(10)\n"
   ]
  },
  {
   "cell_type": "markdown",
   "id": "af24ede0",
   "metadata": {},
   "source": [
    "#### 8.3. South region"
   ]
  },
  {
   "cell_type": "code",
   "execution_count": 289,
   "id": "1dbdf2e2",
   "metadata": {},
   "outputs": [],
   "source": [
    "# subset of the dataframe for the Northeast region\n",
    "df_st = df[df['region'] == 'South']"
   ]
  },
  {
   "cell_type": "code",
   "execution_count": 290,
   "id": "da042e66",
   "metadata": {},
   "outputs": [
    {
     "data": {
      "text/plain": [
       "8129086"
      ]
     },
     "execution_count": 290,
     "metadata": {},
     "output_type": "execute_result"
    }
   ],
   "source": [
    "# customer count in the region\n",
    "df_st['user_id'].value_counts().sum()"
   ]
  },
  {
   "cell_type": "markdown",
   "id": "89c7a3f3",
   "metadata": {},
   "source": [
    "#### 8.3.1. Demographic outlook"
   ]
  },
  {
   "cell_type": "code",
   "execution_count": 291,
   "id": "e7c83375",
   "metadata": {},
   "outputs": [
    {
     "data": {
      "text/plain": [
       "customer_profile\n",
       "high-income, adult                  1178805\n",
       "upper-middle income, adult          1139096\n",
       "lower-middle income, adult          1088331\n",
       "low-income, adult                   1042965\n",
       "high-income, senior                  821626\n",
       "upper-middle income, senior          749068\n",
       "lower-middle income, young adult     719484\n",
       "low-income, young adult              698885\n",
       "lower-middle income, senior          295809\n",
       "low-income, senior                   267089\n",
       "upper-middle income, young adult     106997\n",
       "high-income, young adult              20931\n",
       "Name: count, dtype: int64"
      ]
     },
     "execution_count": 291,
     "metadata": {},
     "output_type": "execute_result"
    }
   ],
   "source": [
    "# customer profile\n",
    "df_st['customer_profile'].value_counts()"
   ]
  },
  {
   "cell_type": "code",
   "execution_count": 292,
   "id": "b035e2bc",
   "metadata": {},
   "outputs": [
    {
     "data": {
      "text/plain": [
       "family_status\n",
       "married                             5691531\n",
       "single                              1344892\n",
       "divorced/widowed                     693442\n",
       "living with parents and siblings     399221\n",
       "Name: count, dtype: int64"
      ]
     },
     "execution_count": 292,
     "metadata": {},
     "output_type": "execute_result"
    }
   ],
   "source": [
    "# prevailing family status\n",
    "df_st['family_status'].value_counts()"
   ]
  },
  {
   "cell_type": "code",
   "execution_count": 293,
   "id": "2353405b",
   "metadata": {
    "scrolled": true
   },
   "outputs": [
    {
     "data": {
      "text/plain": [
       "number_of_dependents\n",
       "2    2053468\n",
       "3    2039432\n",
       "0    2038334\n",
       "1    1997852\n",
       "Name: count, dtype: int64"
      ]
     },
     "execution_count": 293,
     "metadata": {},
     "output_type": "execute_result"
    }
   ],
   "source": [
    "# number of dependents\n",
    "df_st['number_of_dependents'].value_counts()"
   ]
  },
  {
   "cell_type": "markdown",
   "id": "98357368",
   "metadata": {},
   "source": [
    "#### 8.3.2. Spending habits "
   ]
  },
  {
   "cell_type": "code",
   "execution_count": 294,
   "id": "c49a183f",
   "metadata": {},
   "outputs": [
    {
     "data": {
      "text/plain": [
       "count    8.129086e+06\n",
       "mean     1.207741e+01\n",
       "std      5.032178e+02\n",
       "min      1.000000e+00\n",
       "25%      4.200000e+00\n",
       "50%      7.400000e+00\n",
       "75%      1.130000e+01\n",
       "max      9.999900e+04\n",
       "Name: prices, dtype: float64"
      ]
     },
     "execution_count": 294,
     "metadata": {},
     "output_type": "execute_result"
    }
   ],
   "source": [
    "# region spending statistics\n",
    "df_st['prices'].describe()"
   ]
  },
  {
   "cell_type": "code",
   "execution_count": 295,
   "id": "f7c551df",
   "metadata": {
    "scrolled": false
   },
   "outputs": [
    {
     "data": {
      "text/plain": [
       "spending_flag\n",
       "Low spender     7969858\n",
       "High spender     159228\n",
       "Name: count, dtype: int64"
      ]
     },
     "execution_count": 295,
     "metadata": {},
     "output_type": "execute_result"
    }
   ],
   "source": [
    "# customer spending habits\n",
    "df_st['spending_flag'].value_counts(dropna = False)"
   ]
  },
  {
   "cell_type": "code",
   "execution_count": 296,
   "id": "994ebdbf",
   "metadata": {
    "scrolled": true
   },
   "outputs": [
    {
     "data": {
      "text/html": [
       "<div>\n",
       "<style scoped>\n",
       "    .dataframe tbody tr th:only-of-type {\n",
       "        vertical-align: middle;\n",
       "    }\n",
       "\n",
       "    .dataframe tbody tr th {\n",
       "        vertical-align: top;\n",
       "    }\n",
       "\n",
       "    .dataframe thead th {\n",
       "        text-align: right;\n",
       "    }\n",
       "</style>\n",
       "<table border=\"1\" class=\"dataframe\">\n",
       "  <thead>\n",
       "    <tr style=\"text-align: right;\">\n",
       "      <th>spending_flag</th>\n",
       "      <th>High spender</th>\n",
       "      <th>Low spender</th>\n",
       "    </tr>\n",
       "    <tr>\n",
       "      <th>customer_profile</th>\n",
       "      <th></th>\n",
       "      <th></th>\n",
       "    </tr>\n",
       "  </thead>\n",
       "  <tbody>\n",
       "    <tr>\n",
       "      <th>high-income, adult</th>\n",
       "      <td>0.059505</td>\n",
       "      <td>0.940495</td>\n",
       "    </tr>\n",
       "    <tr>\n",
       "      <th>high-income, senior</th>\n",
       "      <td>0.039701</td>\n",
       "      <td>0.960299</td>\n",
       "    </tr>\n",
       "    <tr>\n",
       "      <th>high-income, young adult</th>\n",
       "      <td>1.000000</td>\n",
       "      <td>0.000000</td>\n",
       "    </tr>\n",
       "    <tr>\n",
       "      <th>low-income, adult</th>\n",
       "      <td>0.003304</td>\n",
       "      <td>0.996696</td>\n",
       "    </tr>\n",
       "    <tr>\n",
       "      <th>low-income, senior</th>\n",
       "      <td>0.000236</td>\n",
       "      <td>0.999764</td>\n",
       "    </tr>\n",
       "    <tr>\n",
       "      <th>low-income, young adult</th>\n",
       "      <td>0.000982</td>\n",
       "      <td>0.999018</td>\n",
       "    </tr>\n",
       "    <tr>\n",
       "      <th>lower-middle income, adult</th>\n",
       "      <td>0.007354</td>\n",
       "      <td>0.992646</td>\n",
       "    </tr>\n",
       "    <tr>\n",
       "      <th>lower-middle income, senior</th>\n",
       "      <td>0.003154</td>\n",
       "      <td>0.996846</td>\n",
       "    </tr>\n",
       "    <tr>\n",
       "      <th>lower-middle income, young adult</th>\n",
       "      <td>0.004293</td>\n",
       "      <td>0.995707</td>\n",
       "    </tr>\n",
       "    <tr>\n",
       "      <th>upper-middle income, adult</th>\n",
       "      <td>0.008625</td>\n",
       "      <td>0.991375</td>\n",
       "    </tr>\n",
       "    <tr>\n",
       "      <th>upper-middle income, senior</th>\n",
       "      <td>0.006955</td>\n",
       "      <td>0.993045</td>\n",
       "    </tr>\n",
       "    <tr>\n",
       "      <th>upper-middle income, young adult</th>\n",
       "      <td>0.039973</td>\n",
       "      <td>0.960027</td>\n",
       "    </tr>\n",
       "  </tbody>\n",
       "</table>\n",
       "</div>"
      ],
      "text/plain": [
       "spending_flag                     High spender  Low spender\n",
       "customer_profile                                           \n",
       "high-income, adult                    0.059505     0.940495\n",
       "high-income, senior                   0.039701     0.960299\n",
       "high-income, young adult              1.000000     0.000000\n",
       "low-income, adult                     0.003304     0.996696\n",
       "low-income, senior                    0.000236     0.999764\n",
       "low-income, young adult               0.000982     0.999018\n",
       "lower-middle income, adult            0.007354     0.992646\n",
       "lower-middle income, senior           0.003154     0.996846\n",
       "lower-middle income, young adult      0.004293     0.995707\n",
       "upper-middle income, adult            0.008625     0.991375\n",
       "upper-middle income, senior           0.006955     0.993045\n",
       "upper-middle income, young adult      0.039973     0.960027"
      ]
     },
     "execution_count": 296,
     "metadata": {},
     "output_type": "execute_result"
    }
   ],
   "source": [
    "# proportion of customer spending habits by customer profile\n",
    "st_profile = pd.crosstab(df_st['customer_profile'], df_st['spending_flag'], normalize = 'index')\n",
    "st_profile"
   ]
  },
  {
   "cell_type": "code",
   "execution_count": 297,
   "id": "47560027",
   "metadata": {},
   "outputs": [
    {
     "data": {
      "text/html": [
       "<div>\n",
       "<style scoped>\n",
       "    .dataframe tbody tr th:only-of-type {\n",
       "        vertical-align: middle;\n",
       "    }\n",
       "\n",
       "    .dataframe tbody tr th {\n",
       "        vertical-align: top;\n",
       "    }\n",
       "\n",
       "    .dataframe thead th {\n",
       "        text-align: right;\n",
       "    }\n",
       "</style>\n",
       "<table border=\"1\" class=\"dataframe\">\n",
       "  <thead>\n",
       "    <tr style=\"text-align: right;\">\n",
       "      <th>price_range_loc</th>\n",
       "      <th>High range product</th>\n",
       "      <th>Low range product</th>\n",
       "      <th>Mid range product</th>\n",
       "    </tr>\n",
       "    <tr>\n",
       "      <th>customer_profile</th>\n",
       "      <th></th>\n",
       "      <th></th>\n",
       "      <th></th>\n",
       "    </tr>\n",
       "  </thead>\n",
       "  <tbody>\n",
       "    <tr>\n",
       "      <th>high-income, adult</th>\n",
       "      <td>0.014475</td>\n",
       "      <td>0.297270</td>\n",
       "      <td>0.688255</td>\n",
       "    </tr>\n",
       "    <tr>\n",
       "      <th>high-income, senior</th>\n",
       "      <td>0.014552</td>\n",
       "      <td>0.298620</td>\n",
       "      <td>0.686828</td>\n",
       "    </tr>\n",
       "    <tr>\n",
       "      <th>high-income, young adult</th>\n",
       "      <td>0.023506</td>\n",
       "      <td>0.304333</td>\n",
       "      <td>0.672161</td>\n",
       "    </tr>\n",
       "    <tr>\n",
       "      <th>low-income, adult</th>\n",
       "      <td>0.008489</td>\n",
       "      <td>0.359793</td>\n",
       "      <td>0.631718</td>\n",
       "    </tr>\n",
       "    <tr>\n",
       "      <th>low-income, senior</th>\n",
       "      <td>0.004931</td>\n",
       "      <td>0.418112</td>\n",
       "      <td>0.576957</td>\n",
       "    </tr>\n",
       "    <tr>\n",
       "      <th>low-income, young adult</th>\n",
       "      <td>0.010753</td>\n",
       "      <td>0.331644</td>\n",
       "      <td>0.657603</td>\n",
       "    </tr>\n",
       "    <tr>\n",
       "      <th>lower-middle income, adult</th>\n",
       "      <td>0.013414</td>\n",
       "      <td>0.297194</td>\n",
       "      <td>0.689392</td>\n",
       "    </tr>\n",
       "    <tr>\n",
       "      <th>lower-middle income, senior</th>\n",
       "      <td>0.013968</td>\n",
       "      <td>0.296370</td>\n",
       "      <td>0.689661</td>\n",
       "    </tr>\n",
       "    <tr>\n",
       "      <th>lower-middle income, young adult</th>\n",
       "      <td>0.012808</td>\n",
       "      <td>0.296139</td>\n",
       "      <td>0.691054</td>\n",
       "    </tr>\n",
       "    <tr>\n",
       "      <th>upper-middle income, adult</th>\n",
       "      <td>0.013600</td>\n",
       "      <td>0.295310</td>\n",
       "      <td>0.691089</td>\n",
       "    </tr>\n",
       "    <tr>\n",
       "      <th>upper-middle income, senior</th>\n",
       "      <td>0.014183</td>\n",
       "      <td>0.296036</td>\n",
       "      <td>0.689781</td>\n",
       "    </tr>\n",
       "    <tr>\n",
       "      <th>upper-middle income, young adult</th>\n",
       "      <td>0.015916</td>\n",
       "      <td>0.296373</td>\n",
       "      <td>0.687711</td>\n",
       "    </tr>\n",
       "  </tbody>\n",
       "</table>\n",
       "</div>"
      ],
      "text/plain": [
       "price_range_loc                   High range product  Low range product  \\\n",
       "customer_profile                                                          \n",
       "high-income, adult                          0.014475           0.297270   \n",
       "high-income, senior                         0.014552           0.298620   \n",
       "high-income, young adult                    0.023506           0.304333   \n",
       "low-income, adult                           0.008489           0.359793   \n",
       "low-income, senior                          0.004931           0.418112   \n",
       "low-income, young adult                     0.010753           0.331644   \n",
       "lower-middle income, adult                  0.013414           0.297194   \n",
       "lower-middle income, senior                 0.013968           0.296370   \n",
       "lower-middle income, young adult            0.012808           0.296139   \n",
       "upper-middle income, adult                  0.013600           0.295310   \n",
       "upper-middle income, senior                 0.014183           0.296036   \n",
       "upper-middle income, young adult            0.015916           0.296373   \n",
       "\n",
       "price_range_loc                   Mid range product  \n",
       "customer_profile                                     \n",
       "high-income, adult                         0.688255  \n",
       "high-income, senior                        0.686828  \n",
       "high-income, young adult                   0.672161  \n",
       "low-income, adult                          0.631718  \n",
       "low-income, senior                         0.576957  \n",
       "low-income, young adult                    0.657603  \n",
       "lower-middle income, adult                 0.689392  \n",
       "lower-middle income, senior                0.689661  \n",
       "lower-middle income, young adult           0.691054  \n",
       "upper-middle income, adult                 0.691089  \n",
       "upper-middle income, senior                0.689781  \n",
       "upper-middle income, young adult           0.687711  "
      ]
     },
     "execution_count": 297,
     "metadata": {},
     "output_type": "execute_result"
    }
   ],
   "source": [
    "# product price ranges customers spend prefer\n",
    "st_prepri = pd.crosstab(df_st['customer_profile'], df_st['price_range_loc'], normalize = 'index')\n",
    "st_prepri"
   ]
  },
  {
   "cell_type": "markdown",
   "id": "5afa2b72",
   "metadata": {},
   "source": [
    "#### 8.3.3. Ordering habits"
   ]
  },
  {
   "cell_type": "code",
   "execution_count": 298,
   "id": "1067df20",
   "metadata": {},
   "outputs": [
    {
     "data": {
      "text/plain": [
       "count    8.129086e+06\n",
       "mean     8.509857e+00\n",
       "std      5.322088e+00\n",
       "min      0.000000e+00\n",
       "25%      5.000000e+00\n",
       "50%      7.000000e+00\n",
       "75%      1.000000e+01\n",
       "max      3.000000e+01\n",
       "Name: median_order, dtype: float64"
      ]
     },
     "execution_count": 298,
     "metadata": {},
     "output_type": "execute_result"
    }
   ],
   "source": [
    "# region ordering statistics\n",
    "df_st['median_order'].describe()"
   ]
  },
  {
   "cell_type": "code",
   "execution_count": 299,
   "id": "3dbbdb28",
   "metadata": {},
   "outputs": [
    {
     "data": {
      "text/plain": [
       "frequency_flag\n",
       "Frequent customer        6258258\n",
       "Regular customer         1497479\n",
       "Non-frequent customer     373349\n",
       "Name: count, dtype: int64"
      ]
     },
     "execution_count": 299,
     "metadata": {},
     "output_type": "execute_result"
    }
   ],
   "source": [
    "# customer ordering habits\n",
    "df_st['frequency_flag'].value_counts(dropna=False)"
   ]
  },
  {
   "cell_type": "code",
   "execution_count": 300,
   "id": "ecfb2843",
   "metadata": {},
   "outputs": [
    {
     "data": {
      "text/html": [
       "<div>\n",
       "<style scoped>\n",
       "    .dataframe tbody tr th:only-of-type {\n",
       "        vertical-align: middle;\n",
       "    }\n",
       "\n",
       "    .dataframe tbody tr th {\n",
       "        vertical-align: top;\n",
       "    }\n",
       "\n",
       "    .dataframe thead th {\n",
       "        text-align: right;\n",
       "    }\n",
       "</style>\n",
       "<table border=\"1\" class=\"dataframe\">\n",
       "  <thead>\n",
       "    <tr style=\"text-align: right;\">\n",
       "      <th>frequency_flag</th>\n",
       "      <th>Frequent customer</th>\n",
       "      <th>Non-frequent customer</th>\n",
       "      <th>Regular customer</th>\n",
       "    </tr>\n",
       "    <tr>\n",
       "      <th>customer_profile</th>\n",
       "      <th></th>\n",
       "      <th></th>\n",
       "      <th></th>\n",
       "    </tr>\n",
       "  </thead>\n",
       "  <tbody>\n",
       "    <tr>\n",
       "      <th>high-income, adult</th>\n",
       "      <td>0.772413</td>\n",
       "      <td>0.042569</td>\n",
       "      <td>0.185019</td>\n",
       "    </tr>\n",
       "    <tr>\n",
       "      <th>high-income, senior</th>\n",
       "      <td>0.777589</td>\n",
       "      <td>0.043391</td>\n",
       "      <td>0.179021</td>\n",
       "    </tr>\n",
       "    <tr>\n",
       "      <th>high-income, young adult</th>\n",
       "      <td>0.853328</td>\n",
       "      <td>0.028857</td>\n",
       "      <td>0.117816</td>\n",
       "    </tr>\n",
       "    <tr>\n",
       "      <th>low-income, adult</th>\n",
       "      <td>0.754185</td>\n",
       "      <td>0.051100</td>\n",
       "      <td>0.194715</td>\n",
       "    </tr>\n",
       "    <tr>\n",
       "      <th>low-income, senior</th>\n",
       "      <td>0.762064</td>\n",
       "      <td>0.050612</td>\n",
       "      <td>0.187323</td>\n",
       "    </tr>\n",
       "    <tr>\n",
       "      <th>low-income, young adult</th>\n",
       "      <td>0.776063</td>\n",
       "      <td>0.050316</td>\n",
       "      <td>0.173621</td>\n",
       "    </tr>\n",
       "    <tr>\n",
       "      <th>lower-middle income, adult</th>\n",
       "      <td>0.768975</td>\n",
       "      <td>0.043805</td>\n",
       "      <td>0.187221</td>\n",
       "    </tr>\n",
       "    <tr>\n",
       "      <th>lower-middle income, senior</th>\n",
       "      <td>0.802099</td>\n",
       "      <td>0.038170</td>\n",
       "      <td>0.159731</td>\n",
       "    </tr>\n",
       "    <tr>\n",
       "      <th>lower-middle income, young adult</th>\n",
       "      <td>0.774784</td>\n",
       "      <td>0.047120</td>\n",
       "      <td>0.178096</td>\n",
       "    </tr>\n",
       "    <tr>\n",
       "      <th>upper-middle income, adult</th>\n",
       "      <td>0.764791</td>\n",
       "      <td>0.045293</td>\n",
       "      <td>0.189916</td>\n",
       "    </tr>\n",
       "    <tr>\n",
       "      <th>upper-middle income, senior</th>\n",
       "      <td>0.767272</td>\n",
       "      <td>0.047476</td>\n",
       "      <td>0.185252</td>\n",
       "    </tr>\n",
       "    <tr>\n",
       "      <th>upper-middle income, young adult</th>\n",
       "      <td>0.756638</td>\n",
       "      <td>0.045917</td>\n",
       "      <td>0.197445</td>\n",
       "    </tr>\n",
       "  </tbody>\n",
       "</table>\n",
       "</div>"
      ],
      "text/plain": [
       "frequency_flag                    Frequent customer  Non-frequent customer  \\\n",
       "customer_profile                                                             \n",
       "high-income, adult                         0.772413               0.042569   \n",
       "high-income, senior                        0.777589               0.043391   \n",
       "high-income, young adult                   0.853328               0.028857   \n",
       "low-income, adult                          0.754185               0.051100   \n",
       "low-income, senior                         0.762064               0.050612   \n",
       "low-income, young adult                    0.776063               0.050316   \n",
       "lower-middle income, adult                 0.768975               0.043805   \n",
       "lower-middle income, senior                0.802099               0.038170   \n",
       "lower-middle income, young adult           0.774784               0.047120   \n",
       "upper-middle income, adult                 0.764791               0.045293   \n",
       "upper-middle income, senior                0.767272               0.047476   \n",
       "upper-middle income, young adult           0.756638               0.045917   \n",
       "\n",
       "frequency_flag                    Regular customer  \n",
       "customer_profile                                    \n",
       "high-income, adult                        0.185019  \n",
       "high-income, senior                       0.179021  \n",
       "high-income, young adult                  0.117816  \n",
       "low-income, adult                         0.194715  \n",
       "low-income, senior                        0.187323  \n",
       "low-income, young adult                   0.173621  \n",
       "lower-middle income, adult                0.187221  \n",
       "lower-middle income, senior               0.159731  \n",
       "lower-middle income, young adult          0.178096  \n",
       "upper-middle income, adult                0.189916  \n",
       "upper-middle income, senior               0.185252  \n",
       "upper-middle income, young adult          0.197445  "
      ]
     },
     "execution_count": 300,
     "metadata": {},
     "output_type": "execute_result"
    }
   ],
   "source": [
    "# profile of active customers\n",
    "st_activity = pd.crosstab(df_st['customer_profile'], df_st['frequency_flag'], normalize = 'index')\n",
    "st_activity"
   ]
  },
  {
   "cell_type": "markdown",
   "id": "51cad896",
   "metadata": {},
   "source": [
    "#### 8.3.4. Brand loyalty"
   ]
  },
  {
   "cell_type": "code",
   "execution_count": 301,
   "id": "726c3c00",
   "metadata": {},
   "outputs": [
    {
     "data": {
      "text/plain": [
       "count    8.129086e+06\n",
       "mean     3.854553e+01\n",
       "std      2.520775e+01\n",
       "min      5.000000e+00\n",
       "25%      1.800000e+01\n",
       "50%      3.300000e+01\n",
       "75%      5.200000e+01\n",
       "max      9.900000e+01\n",
       "Name: max_order, dtype: float64"
      ]
     },
     "execution_count": 301,
     "metadata": {},
     "output_type": "execute_result"
    }
   ],
   "source": [
    "# region brand loyalty statistics\n",
    "df_st['max_order'].describe()"
   ]
  },
  {
   "cell_type": "code",
   "execution_count": 302,
   "id": "fb63868e",
   "metadata": {},
   "outputs": [
    {
     "data": {
      "text/plain": [
       "loyalty_flag\n",
       "Regular customer    4263480\n",
       "Loyal customer      3163125\n",
       "New customer         702481\n",
       "Name: count, dtype: int64"
      ]
     },
     "execution_count": 302,
     "metadata": {},
     "output_type": "execute_result"
    }
   ],
   "source": [
    "# customer brand loyalty\n",
    "df_st['loyalty_flag'].value_counts(dropna=False)"
   ]
  },
  {
   "cell_type": "code",
   "execution_count": 303,
   "id": "243764a5",
   "metadata": {},
   "outputs": [
    {
     "data": {
      "text/html": [
       "<div>\n",
       "<style scoped>\n",
       "    .dataframe tbody tr th:only-of-type {\n",
       "        vertical-align: middle;\n",
       "    }\n",
       "\n",
       "    .dataframe tbody tr th {\n",
       "        vertical-align: top;\n",
       "    }\n",
       "\n",
       "    .dataframe thead th {\n",
       "        text-align: right;\n",
       "    }\n",
       "</style>\n",
       "<table border=\"1\" class=\"dataframe\">\n",
       "  <thead>\n",
       "    <tr style=\"text-align: right;\">\n",
       "      <th>loyalty_flag</th>\n",
       "      <th>Loyal customer</th>\n",
       "      <th>New customer</th>\n",
       "      <th>Regular customer</th>\n",
       "    </tr>\n",
       "    <tr>\n",
       "      <th>customer_profile</th>\n",
       "      <th></th>\n",
       "      <th></th>\n",
       "      <th></th>\n",
       "    </tr>\n",
       "  </thead>\n",
       "  <tbody>\n",
       "    <tr>\n",
       "      <th>high-income, adult</th>\n",
       "      <td>0.373517</td>\n",
       "      <td>0.082554</td>\n",
       "      <td>0.543929</td>\n",
       "    </tr>\n",
       "    <tr>\n",
       "      <th>high-income, senior</th>\n",
       "      <td>0.394020</td>\n",
       "      <td>0.084891</td>\n",
       "      <td>0.521089</td>\n",
       "    </tr>\n",
       "    <tr>\n",
       "      <th>high-income, young adult</th>\n",
       "      <td>0.533037</td>\n",
       "      <td>0.068702</td>\n",
       "      <td>0.398261</td>\n",
       "    </tr>\n",
       "    <tr>\n",
       "      <th>low-income, adult</th>\n",
       "      <td>0.388978</td>\n",
       "      <td>0.097208</td>\n",
       "      <td>0.513814</td>\n",
       "    </tr>\n",
       "    <tr>\n",
       "      <th>low-income, senior</th>\n",
       "      <td>0.387350</td>\n",
       "      <td>0.100319</td>\n",
       "      <td>0.512331</td>\n",
       "    </tr>\n",
       "    <tr>\n",
       "      <th>low-income, young adult</th>\n",
       "      <td>0.388191</td>\n",
       "      <td>0.092911</td>\n",
       "      <td>0.518898</td>\n",
       "    </tr>\n",
       "    <tr>\n",
       "      <th>lower-middle income, adult</th>\n",
       "      <td>0.396010</td>\n",
       "      <td>0.078564</td>\n",
       "      <td>0.525426</td>\n",
       "    </tr>\n",
       "    <tr>\n",
       "      <th>lower-middle income, senior</th>\n",
       "      <td>0.399616</td>\n",
       "      <td>0.078598</td>\n",
       "      <td>0.521786</td>\n",
       "    </tr>\n",
       "    <tr>\n",
       "      <th>lower-middle income, young adult</th>\n",
       "      <td>0.406865</td>\n",
       "      <td>0.084027</td>\n",
       "      <td>0.509108</td>\n",
       "    </tr>\n",
       "    <tr>\n",
       "      <th>upper-middle income, adult</th>\n",
       "      <td>0.387689</td>\n",
       "      <td>0.085984</td>\n",
       "      <td>0.526327</td>\n",
       "    </tr>\n",
       "    <tr>\n",
       "      <th>upper-middle income, senior</th>\n",
       "      <td>0.378982</td>\n",
       "      <td>0.085116</td>\n",
       "      <td>0.535902</td>\n",
       "    </tr>\n",
       "    <tr>\n",
       "      <th>upper-middle income, young adult</th>\n",
       "      <td>0.374291</td>\n",
       "      <td>0.093031</td>\n",
       "      <td>0.532678</td>\n",
       "    </tr>\n",
       "  </tbody>\n",
       "</table>\n",
       "</div>"
      ],
      "text/plain": [
       "loyalty_flag                      Loyal customer  New customer  \\\n",
       "customer_profile                                                 \n",
       "high-income, adult                      0.373517      0.082554   \n",
       "high-income, senior                     0.394020      0.084891   \n",
       "high-income, young adult                0.533037      0.068702   \n",
       "low-income, adult                       0.388978      0.097208   \n",
       "low-income, senior                      0.387350      0.100319   \n",
       "low-income, young adult                 0.388191      0.092911   \n",
       "lower-middle income, adult              0.396010      0.078564   \n",
       "lower-middle income, senior             0.399616      0.078598   \n",
       "lower-middle income, young adult        0.406865      0.084027   \n",
       "upper-middle income, adult              0.387689      0.085984   \n",
       "upper-middle income, senior             0.378982      0.085116   \n",
       "upper-middle income, young adult        0.374291      0.093031   \n",
       "\n",
       "loyalty_flag                      Regular customer  \n",
       "customer_profile                                    \n",
       "high-income, adult                        0.543929  \n",
       "high-income, senior                       0.521089  \n",
       "high-income, young adult                  0.398261  \n",
       "low-income, adult                         0.513814  \n",
       "low-income, senior                        0.512331  \n",
       "low-income, young adult                   0.518898  \n",
       "lower-middle income, adult                0.525426  \n",
       "lower-middle income, senior               0.521786  \n",
       "lower-middle income, young adult          0.509108  \n",
       "upper-middle income, adult                0.526327  \n",
       "upper-middle income, senior               0.535902  \n",
       "upper-middle income, young adult          0.532678  "
      ]
     },
     "execution_count": 303,
     "metadata": {},
     "output_type": "execute_result"
    }
   ],
   "source": [
    "# brand loyalty by customer profile\n",
    "st_brand = pd.crosstab(df_st['customer_profile'], df_st['loyalty_flag'], normalize = 'index')\n",
    "st_brand"
   ]
  },
  {
   "cell_type": "markdown",
   "id": "785e4928",
   "metadata": {},
   "source": [
    "#### 8.3.5. Product preferences"
   ]
  },
  {
   "cell_type": "code",
   "execution_count": 179,
   "id": "1d262d5f",
   "metadata": {},
   "outputs": [
    {
     "data": {
      "text/plain": [
       "department_id\n",
       "4     3160551\n",
       "16    1796969\n",
       "19     957346\n",
       "7      898940\n",
       "1      747900\n",
       "Name: count, dtype: int64"
      ]
     },
     "execution_count": 179,
     "metadata": {},
     "output_type": "execute_result"
    }
   ],
   "source": [
    "# region highest frequency departments\n",
    "df_st['department_id'].value_counts(dropna = False).head(5)"
   ]
  },
  {
   "cell_type": "code",
   "execution_count": 180,
   "id": "721aec26",
   "metadata": {},
   "outputs": [
    {
     "data": {
      "text/plain": [
       "product_name\n",
       "Banana                    158336\n",
       "Bag of Organic Bananas    125585\n",
       "Organic Strawberries       88379\n",
       "Organic Baby Spinach       81399\n",
       "Organic Hass Avocado       69833\n",
       "Organic Avocado            59015\n",
       "Large Lemon                50257\n",
       "Strawberries               47818\n",
       "Limes                      46613\n",
       "Organic Whole Milk         46403\n",
       "Name: count, dtype: int64"
      ]
     },
     "execution_count": 180,
     "metadata": {},
     "output_type": "execute_result"
    }
   ],
   "source": [
    "# most popular products\n",
    "df_st['product_name'].value_counts(dropna=False).head(10)\n"
   ]
  },
  {
   "cell_type": "code",
   "execution_count": 181,
   "id": "adcf5af5",
   "metadata": {},
   "outputs": [
    {
     "data": {
      "text/plain": [
       "product_name\n",
       "Greek Style Hummus                                              1\n",
       "Lemonade With Mint                                              1\n",
       "Smokey Ranch Dressing                                           1\n",
       "MicroThin Condoms                                               1\n",
       "Just Real Fruits & Veggies Snack Apple, Green Pea, Pineapple    1\n",
       "Tuna and Cheese Cheezy Middles Cat Treats                       1\n",
       "Organic Lip Balm Sphere - Strawberry Sorbet                     1\n",
       "Natural Blueberries Covered In Dark Chocolate                   1\n",
       "Shredded Pizza Cheese                                           1\n",
       "Total Domination India Pale Ale                                 1\n",
       "Name: count, dtype: int64"
      ]
     },
     "execution_count": 181,
     "metadata": {},
     "output_type": "execute_result"
    }
   ],
   "source": [
    "# least popular products\n",
    "df_st['product_name'].value_counts(dropna=False).tail(10)"
   ]
  },
  {
   "cell_type": "markdown",
   "id": "66f1ddaf",
   "metadata": {},
   "source": [
    "#### 8.4. West region"
   ]
  },
  {
   "cell_type": "code",
   "execution_count": 307,
   "id": "9fc579fd",
   "metadata": {},
   "outputs": [],
   "source": [
    "# subset of the dataframe for the Northeast region\n",
    "df_wt = df[df['region'] == 'West']"
   ]
  },
  {
   "cell_type": "code",
   "execution_count": 308,
   "id": "adcde900",
   "metadata": {},
   "outputs": [
    {
     "data": {
      "text/plain": [
       "6258764"
      ]
     },
     "execution_count": 308,
     "metadata": {},
     "output_type": "execute_result"
    }
   ],
   "source": [
    "# customer count in the region\n",
    "df_wt['user_id'].value_counts().sum()"
   ]
  },
  {
   "cell_type": "markdown",
   "id": "1acaffcb",
   "metadata": {},
   "source": [
    "#### 8.4.1. Demographic outlook"
   ]
  },
  {
   "cell_type": "code",
   "execution_count": 309,
   "id": "f328068f",
   "metadata": {},
   "outputs": [
    {
     "data": {
      "text/plain": [
       "customer_profile\n",
       "upper-middle income, adult          925062\n",
       "high-income, adult                  920480\n",
       "lower-middle income, adult          813433\n",
       "low-income, adult                   780467\n",
       "high-income, senior                 633383\n",
       "upper-middle income, senior         585259\n",
       "low-income, young adult             545041\n",
       "lower-middle income, young adult    531402\n",
       "lower-middle income, senior         224388\n",
       "low-income, senior                  212197\n",
       "upper-middle income, young adult     73682\n",
       "high-income, young adult             13970\n",
       "Name: count, dtype: int64"
      ]
     },
     "execution_count": 309,
     "metadata": {},
     "output_type": "execute_result"
    }
   ],
   "source": [
    "# customer profile\n",
    "df_wt['customer_profile'].value_counts()"
   ]
  },
  {
   "cell_type": "code",
   "execution_count": 310,
   "id": "70e93c2b",
   "metadata": {},
   "outputs": [
    {
     "data": {
      "text/plain": [
       "family_status\n",
       "married                             4402928\n",
       "single                              1034321\n",
       "divorced/widowed                     530248\n",
       "living with parents and siblings     291267\n",
       "Name: count, dtype: int64"
      ]
     },
     "execution_count": 310,
     "metadata": {},
     "output_type": "execute_result"
    }
   ],
   "source": [
    "# prevailing family status\n",
    "df_wt['family_status'].value_counts()"
   ]
  },
  {
   "cell_type": "code",
   "execution_count": 311,
   "id": "f51a4b1b",
   "metadata": {
    "scrolled": true
   },
   "outputs": [
    {
     "data": {
      "text/plain": [
       "number_of_dependents\n",
       "3    1598581\n",
       "0    1564569\n",
       "2    1552918\n",
       "1    1542696\n",
       "Name: count, dtype: int64"
      ]
     },
     "execution_count": 311,
     "metadata": {},
     "output_type": "execute_result"
    }
   ],
   "source": [
    "# number of dependents\n",
    "df_wt['number_of_dependents'].value_counts()"
   ]
  },
  {
   "cell_type": "markdown",
   "id": "c60c6608",
   "metadata": {},
   "source": [
    "#### 8.4.2. Spending habits "
   ]
  },
  {
   "cell_type": "code",
   "execution_count": 312,
   "id": "551a4620",
   "metadata": {},
   "outputs": [
    {
     "data": {
      "text/plain": [
       "count    6.258764e+06\n",
       "mean     1.089711e+01\n",
       "std      3.902841e+02\n",
       "min      1.000000e+00\n",
       "25%      4.200000e+00\n",
       "50%      7.400000e+00\n",
       "75%      1.120000e+01\n",
       "max      9.999900e+04\n",
       "Name: prices, dtype: float64"
      ]
     },
     "execution_count": 312,
     "metadata": {},
     "output_type": "execute_result"
    }
   ],
   "source": [
    "# region spending statistics\n",
    "df_wt['prices'].describe()"
   ]
  },
  {
   "cell_type": "code",
   "execution_count": 313,
   "id": "8a727339",
   "metadata": {
    "scrolled": false
   },
   "outputs": [
    {
     "data": {
      "text/plain": [
       "spending_flag\n",
       "Low spender     6137078\n",
       "High spender     121686\n",
       "Name: count, dtype: int64"
      ]
     },
     "execution_count": 313,
     "metadata": {},
     "output_type": "execute_result"
    }
   ],
   "source": [
    "# customer spending habits\n",
    "df_wt['spending_flag'].value_counts(dropna = False)"
   ]
  },
  {
   "cell_type": "code",
   "execution_count": 314,
   "id": "56db185b",
   "metadata": {
    "scrolled": true
   },
   "outputs": [
    {
     "data": {
      "text/html": [
       "<div>\n",
       "<style scoped>\n",
       "    .dataframe tbody tr th:only-of-type {\n",
       "        vertical-align: middle;\n",
       "    }\n",
       "\n",
       "    .dataframe tbody tr th {\n",
       "        vertical-align: top;\n",
       "    }\n",
       "\n",
       "    .dataframe thead th {\n",
       "        text-align: right;\n",
       "    }\n",
       "</style>\n",
       "<table border=\"1\" class=\"dataframe\">\n",
       "  <thead>\n",
       "    <tr style=\"text-align: right;\">\n",
       "      <th>spending_flag</th>\n",
       "      <th>High spender</th>\n",
       "      <th>Low spender</th>\n",
       "    </tr>\n",
       "    <tr>\n",
       "      <th>customer_profile</th>\n",
       "      <th></th>\n",
       "      <th></th>\n",
       "    </tr>\n",
       "  </thead>\n",
       "  <tbody>\n",
       "    <tr>\n",
       "      <th>high-income, adult</th>\n",
       "      <td>0.056813</td>\n",
       "      <td>0.943187</td>\n",
       "    </tr>\n",
       "    <tr>\n",
       "      <th>high-income, senior</th>\n",
       "      <td>0.037754</td>\n",
       "      <td>0.962246</td>\n",
       "    </tr>\n",
       "    <tr>\n",
       "      <th>high-income, young adult</th>\n",
       "      <td>1.000000</td>\n",
       "      <td>0.000000</td>\n",
       "    </tr>\n",
       "    <tr>\n",
       "      <th>low-income, adult</th>\n",
       "      <td>0.003111</td>\n",
       "      <td>0.996889</td>\n",
       "    </tr>\n",
       "    <tr>\n",
       "      <th>low-income, senior</th>\n",
       "      <td>0.000000</td>\n",
       "      <td>1.000000</td>\n",
       "    </tr>\n",
       "    <tr>\n",
       "      <th>low-income, young adult</th>\n",
       "      <td>0.004858</td>\n",
       "      <td>0.995142</td>\n",
       "    </tr>\n",
       "    <tr>\n",
       "      <th>lower-middle income, adult</th>\n",
       "      <td>0.003550</td>\n",
       "      <td>0.996450</td>\n",
       "    </tr>\n",
       "    <tr>\n",
       "      <th>lower-middle income, senior</th>\n",
       "      <td>0.013530</td>\n",
       "      <td>0.986470</td>\n",
       "    </tr>\n",
       "    <tr>\n",
       "      <th>lower-middle income, young adult</th>\n",
       "      <td>0.005965</td>\n",
       "      <td>0.994035</td>\n",
       "    </tr>\n",
       "    <tr>\n",
       "      <th>upper-middle income, adult</th>\n",
       "      <td>0.009968</td>\n",
       "      <td>0.990032</td>\n",
       "    </tr>\n",
       "    <tr>\n",
       "      <th>upper-middle income, senior</th>\n",
       "      <td>0.009765</td>\n",
       "      <td>0.990235</td>\n",
       "    </tr>\n",
       "    <tr>\n",
       "      <th>upper-middle income, young adult</th>\n",
       "      <td>0.032600</td>\n",
       "      <td>0.967400</td>\n",
       "    </tr>\n",
       "  </tbody>\n",
       "</table>\n",
       "</div>"
      ],
      "text/plain": [
       "spending_flag                     High spender  Low spender\n",
       "customer_profile                                           \n",
       "high-income, adult                    0.056813     0.943187\n",
       "high-income, senior                   0.037754     0.962246\n",
       "high-income, young adult              1.000000     0.000000\n",
       "low-income, adult                     0.003111     0.996889\n",
       "low-income, senior                    0.000000     1.000000\n",
       "low-income, young adult               0.004858     0.995142\n",
       "lower-middle income, adult            0.003550     0.996450\n",
       "lower-middle income, senior           0.013530     0.986470\n",
       "lower-middle income, young adult      0.005965     0.994035\n",
       "upper-middle income, adult            0.009968     0.990032\n",
       "upper-middle income, senior           0.009765     0.990235\n",
       "upper-middle income, young adult      0.032600     0.967400"
      ]
     },
     "execution_count": 314,
     "metadata": {},
     "output_type": "execute_result"
    }
   ],
   "source": [
    "# proportion of customer spending habits by customer profile\n",
    "wt_profile = pd.crosstab(df_wt['customer_profile'], df_wt['spending_flag'], normalize = 'index')\n",
    "wt_profile"
   ]
  },
  {
   "cell_type": "code",
   "execution_count": 315,
   "id": "2c94195d",
   "metadata": {},
   "outputs": [
    {
     "data": {
      "text/html": [
       "<div>\n",
       "<style scoped>\n",
       "    .dataframe tbody tr th:only-of-type {\n",
       "        vertical-align: middle;\n",
       "    }\n",
       "\n",
       "    .dataframe tbody tr th {\n",
       "        vertical-align: top;\n",
       "    }\n",
       "\n",
       "    .dataframe thead th {\n",
       "        text-align: right;\n",
       "    }\n",
       "</style>\n",
       "<table border=\"1\" class=\"dataframe\">\n",
       "  <thead>\n",
       "    <tr style=\"text-align: right;\">\n",
       "      <th>price_range_loc</th>\n",
       "      <th>High range product</th>\n",
       "      <th>Low range product</th>\n",
       "      <th>Mid range product</th>\n",
       "    </tr>\n",
       "    <tr>\n",
       "      <th>customer_profile</th>\n",
       "      <th></th>\n",
       "      <th></th>\n",
       "      <th></th>\n",
       "    </tr>\n",
       "  </thead>\n",
       "  <tbody>\n",
       "    <tr>\n",
       "      <th>high-income, adult</th>\n",
       "      <td>0.013684</td>\n",
       "      <td>0.297260</td>\n",
       "      <td>0.689056</td>\n",
       "    </tr>\n",
       "    <tr>\n",
       "      <th>high-income, senior</th>\n",
       "      <td>0.013720</td>\n",
       "      <td>0.297390</td>\n",
       "      <td>0.688890</td>\n",
       "    </tr>\n",
       "    <tr>\n",
       "      <th>high-income, young adult</th>\n",
       "      <td>0.021188</td>\n",
       "      <td>0.308232</td>\n",
       "      <td>0.670580</td>\n",
       "    </tr>\n",
       "    <tr>\n",
       "      <th>low-income, adult</th>\n",
       "      <td>0.009268</td>\n",
       "      <td>0.360578</td>\n",
       "      <td>0.630155</td>\n",
       "    </tr>\n",
       "    <tr>\n",
       "      <th>low-income, senior</th>\n",
       "      <td>0.005335</td>\n",
       "      <td>0.413559</td>\n",
       "      <td>0.581106</td>\n",
       "    </tr>\n",
       "    <tr>\n",
       "      <th>low-income, young adult</th>\n",
       "      <td>0.011513</td>\n",
       "      <td>0.333722</td>\n",
       "      <td>0.654765</td>\n",
       "    </tr>\n",
       "    <tr>\n",
       "      <th>lower-middle income, adult</th>\n",
       "      <td>0.013445</td>\n",
       "      <td>0.298718</td>\n",
       "      <td>0.687837</td>\n",
       "    </tr>\n",
       "    <tr>\n",
       "      <th>lower-middle income, senior</th>\n",
       "      <td>0.014560</td>\n",
       "      <td>0.297525</td>\n",
       "      <td>0.687916</td>\n",
       "    </tr>\n",
       "    <tr>\n",
       "      <th>lower-middle income, young adult</th>\n",
       "      <td>0.014667</td>\n",
       "      <td>0.296000</td>\n",
       "      <td>0.689333</td>\n",
       "    </tr>\n",
       "    <tr>\n",
       "      <th>upper-middle income, adult</th>\n",
       "      <td>0.013073</td>\n",
       "      <td>0.298085</td>\n",
       "      <td>0.688842</td>\n",
       "    </tr>\n",
       "    <tr>\n",
       "      <th>upper-middle income, senior</th>\n",
       "      <td>0.014122</td>\n",
       "      <td>0.297514</td>\n",
       "      <td>0.688364</td>\n",
       "    </tr>\n",
       "    <tr>\n",
       "      <th>upper-middle income, young adult</th>\n",
       "      <td>0.012866</td>\n",
       "      <td>0.296572</td>\n",
       "      <td>0.690562</td>\n",
       "    </tr>\n",
       "  </tbody>\n",
       "</table>\n",
       "</div>"
      ],
      "text/plain": [
       "price_range_loc                   High range product  Low range product  \\\n",
       "customer_profile                                                          \n",
       "high-income, adult                          0.013684           0.297260   \n",
       "high-income, senior                         0.013720           0.297390   \n",
       "high-income, young adult                    0.021188           0.308232   \n",
       "low-income, adult                           0.009268           0.360578   \n",
       "low-income, senior                          0.005335           0.413559   \n",
       "low-income, young adult                     0.011513           0.333722   \n",
       "lower-middle income, adult                  0.013445           0.298718   \n",
       "lower-middle income, senior                 0.014560           0.297525   \n",
       "lower-middle income, young adult            0.014667           0.296000   \n",
       "upper-middle income, adult                  0.013073           0.298085   \n",
       "upper-middle income, senior                 0.014122           0.297514   \n",
       "upper-middle income, young adult            0.012866           0.296572   \n",
       "\n",
       "price_range_loc                   Mid range product  \n",
       "customer_profile                                     \n",
       "high-income, adult                         0.689056  \n",
       "high-income, senior                        0.688890  \n",
       "high-income, young adult                   0.670580  \n",
       "low-income, adult                          0.630155  \n",
       "low-income, senior                         0.581106  \n",
       "low-income, young adult                    0.654765  \n",
       "lower-middle income, adult                 0.687837  \n",
       "lower-middle income, senior                0.687916  \n",
       "lower-middle income, young adult           0.689333  \n",
       "upper-middle income, adult                 0.688842  \n",
       "upper-middle income, senior                0.688364  \n",
       "upper-middle income, young adult           0.690562  "
      ]
     },
     "execution_count": 315,
     "metadata": {},
     "output_type": "execute_result"
    }
   ],
   "source": [
    "# product price ranges customers spend prefer\n",
    "wt_prepri = pd.crosstab(df_wt['customer_profile'], df_wt['price_range_loc'], normalize = 'index')\n",
    "wt_prepri"
   ]
  },
  {
   "cell_type": "markdown",
   "id": "700083d6",
   "metadata": {},
   "source": [
    "#### 8.4.3. Ordering habits"
   ]
  },
  {
   "cell_type": "code",
   "execution_count": 316,
   "id": "a77f5aad",
   "metadata": {},
   "outputs": [
    {
     "data": {
      "text/plain": [
       "count    6.258764e+06\n",
       "mean     8.476147e+00\n",
       "std      5.302905e+00\n",
       "min      0.000000e+00\n",
       "25%      5.000000e+00\n",
       "50%      7.000000e+00\n",
       "75%      1.000000e+01\n",
       "max      3.000000e+01\n",
       "Name: median_order, dtype: float64"
      ]
     },
     "execution_count": 316,
     "metadata": {},
     "output_type": "execute_result"
    }
   ],
   "source": [
    "# region ordering statistics\n",
    "df_wt['median_order'].describe()"
   ]
  },
  {
   "cell_type": "code",
   "execution_count": 317,
   "id": "43e0bd27",
   "metadata": {},
   "outputs": [
    {
     "data": {
      "text/plain": [
       "frequency_flag\n",
       "Frequent customer        4834147\n",
       "Regular customer         1145378\n",
       "Non-frequent customer     279239\n",
       "Name: count, dtype: int64"
      ]
     },
     "execution_count": 317,
     "metadata": {},
     "output_type": "execute_result"
    }
   ],
   "source": [
    "# customer ordering habits\n",
    "df_wt['frequency_flag'].value_counts(dropna=False)"
   ]
  },
  {
   "cell_type": "code",
   "execution_count": 318,
   "id": "c0c8e25e",
   "metadata": {},
   "outputs": [
    {
     "data": {
      "text/html": [
       "<div>\n",
       "<style scoped>\n",
       "    .dataframe tbody tr th:only-of-type {\n",
       "        vertical-align: middle;\n",
       "    }\n",
       "\n",
       "    .dataframe tbody tr th {\n",
       "        vertical-align: top;\n",
       "    }\n",
       "\n",
       "    .dataframe thead th {\n",
       "        text-align: right;\n",
       "    }\n",
       "</style>\n",
       "<table border=\"1\" class=\"dataframe\">\n",
       "  <thead>\n",
       "    <tr style=\"text-align: right;\">\n",
       "      <th>frequency_flag</th>\n",
       "      <th>Frequent customer</th>\n",
       "      <th>Non-frequent customer</th>\n",
       "      <th>Regular customer</th>\n",
       "    </tr>\n",
       "    <tr>\n",
       "      <th>customer_profile</th>\n",
       "      <th></th>\n",
       "      <th></th>\n",
       "      <th></th>\n",
       "    </tr>\n",
       "  </thead>\n",
       "  <tbody>\n",
       "    <tr>\n",
       "      <th>high-income, adult</th>\n",
       "      <td>0.775535</td>\n",
       "      <td>0.041724</td>\n",
       "      <td>0.182742</td>\n",
       "    </tr>\n",
       "    <tr>\n",
       "      <th>high-income, senior</th>\n",
       "      <td>0.771639</td>\n",
       "      <td>0.041689</td>\n",
       "      <td>0.186672</td>\n",
       "    </tr>\n",
       "    <tr>\n",
       "      <th>high-income, young adult</th>\n",
       "      <td>0.796779</td>\n",
       "      <td>0.030351</td>\n",
       "      <td>0.172870</td>\n",
       "    </tr>\n",
       "    <tr>\n",
       "      <th>low-income, adult</th>\n",
       "      <td>0.763303</td>\n",
       "      <td>0.051702</td>\n",
       "      <td>0.184994</td>\n",
       "    </tr>\n",
       "    <tr>\n",
       "      <th>low-income, senior</th>\n",
       "      <td>0.753357</td>\n",
       "      <td>0.051947</td>\n",
       "      <td>0.194696</td>\n",
       "    </tr>\n",
       "    <tr>\n",
       "      <th>low-income, young adult</th>\n",
       "      <td>0.767856</td>\n",
       "      <td>0.046538</td>\n",
       "      <td>0.185606</td>\n",
       "    </tr>\n",
       "    <tr>\n",
       "      <th>lower-middle income, adult</th>\n",
       "      <td>0.776699</td>\n",
       "      <td>0.043046</td>\n",
       "      <td>0.180255</td>\n",
       "    </tr>\n",
       "    <tr>\n",
       "      <th>lower-middle income, senior</th>\n",
       "      <td>0.773575</td>\n",
       "      <td>0.051567</td>\n",
       "      <td>0.174858</td>\n",
       "    </tr>\n",
       "    <tr>\n",
       "      <th>lower-middle income, young adult</th>\n",
       "      <td>0.768522</td>\n",
       "      <td>0.042702</td>\n",
       "      <td>0.188776</td>\n",
       "    </tr>\n",
       "    <tr>\n",
       "      <th>upper-middle income, adult</th>\n",
       "      <td>0.779849</td>\n",
       "      <td>0.042186</td>\n",
       "      <td>0.177964</td>\n",
       "    </tr>\n",
       "    <tr>\n",
       "      <th>upper-middle income, senior</th>\n",
       "      <td>0.780871</td>\n",
       "      <td>0.043316</td>\n",
       "      <td>0.175813</td>\n",
       "    </tr>\n",
       "    <tr>\n",
       "      <th>upper-middle income, young adult</th>\n",
       "      <td>0.734426</td>\n",
       "      <td>0.048994</td>\n",
       "      <td>0.216579</td>\n",
       "    </tr>\n",
       "  </tbody>\n",
       "</table>\n",
       "</div>"
      ],
      "text/plain": [
       "frequency_flag                    Frequent customer  Non-frequent customer  \\\n",
       "customer_profile                                                             \n",
       "high-income, adult                         0.775535               0.041724   \n",
       "high-income, senior                        0.771639               0.041689   \n",
       "high-income, young adult                   0.796779               0.030351   \n",
       "low-income, adult                          0.763303               0.051702   \n",
       "low-income, senior                         0.753357               0.051947   \n",
       "low-income, young adult                    0.767856               0.046538   \n",
       "lower-middle income, adult                 0.776699               0.043046   \n",
       "lower-middle income, senior                0.773575               0.051567   \n",
       "lower-middle income, young adult           0.768522               0.042702   \n",
       "upper-middle income, adult                 0.779849               0.042186   \n",
       "upper-middle income, senior                0.780871               0.043316   \n",
       "upper-middle income, young adult           0.734426               0.048994   \n",
       "\n",
       "frequency_flag                    Regular customer  \n",
       "customer_profile                                    \n",
       "high-income, adult                        0.182742  \n",
       "high-income, senior                       0.186672  \n",
       "high-income, young adult                  0.172870  \n",
       "low-income, adult                         0.184994  \n",
       "low-income, senior                        0.194696  \n",
       "low-income, young adult                   0.185606  \n",
       "lower-middle income, adult                0.180255  \n",
       "lower-middle income, senior               0.174858  \n",
       "lower-middle income, young adult          0.188776  \n",
       "upper-middle income, adult                0.177964  \n",
       "upper-middle income, senior               0.175813  \n",
       "upper-middle income, young adult          0.216579  "
      ]
     },
     "execution_count": 318,
     "metadata": {},
     "output_type": "execute_result"
    }
   ],
   "source": [
    "# profile of active customers\n",
    "wt_activity = pd.crosstab(df_wt['customer_profile'], df_wt['frequency_flag'], normalize = 'index')\n",
    "wt_activity"
   ]
  },
  {
   "cell_type": "markdown",
   "id": "52c3a4e9",
   "metadata": {},
   "source": [
    "#### 8.4.4. Brand loyalty"
   ]
  },
  {
   "cell_type": "code",
   "execution_count": 319,
   "id": "a6c42a86",
   "metadata": {},
   "outputs": [
    {
     "data": {
      "text/plain": [
       "count    6.258764e+06\n",
       "mean     3.877981e+01\n",
       "std      2.507103e+01\n",
       "min      5.000000e+00\n",
       "25%      1.900000e+01\n",
       "50%      3.300000e+01\n",
       "75%      5.300000e+01\n",
       "max      9.900000e+01\n",
       "Name: max_order, dtype: float64"
      ]
     },
     "execution_count": 319,
     "metadata": {},
     "output_type": "execute_result"
    }
   ],
   "source": [
    "# region brand loyalty statistics\n",
    "df_wt['max_order'].describe()"
   ]
  },
  {
   "cell_type": "code",
   "execution_count": 320,
   "id": "fee492c2",
   "metadata": {},
   "outputs": [
    {
     "data": {
      "text/plain": [
       "loyalty_flag\n",
       "Regular customer    3239412\n",
       "Loyal customer      2476863\n",
       "New customer         542489\n",
       "Name: count, dtype: int64"
      ]
     },
     "execution_count": 320,
     "metadata": {},
     "output_type": "execute_result"
    }
   ],
   "source": [
    "# customer brand loyalty\n",
    "df_wt['loyalty_flag'].value_counts(dropna=False)"
   ]
  },
  {
   "cell_type": "code",
   "execution_count": 321,
   "id": "012ad663",
   "metadata": {},
   "outputs": [
    {
     "data": {
      "text/html": [
       "<div>\n",
       "<style scoped>\n",
       "    .dataframe tbody tr th:only-of-type {\n",
       "        vertical-align: middle;\n",
       "    }\n",
       "\n",
       "    .dataframe tbody tr th {\n",
       "        vertical-align: top;\n",
       "    }\n",
       "\n",
       "    .dataframe thead th {\n",
       "        text-align: right;\n",
       "    }\n",
       "</style>\n",
       "<table border=\"1\" class=\"dataframe\">\n",
       "  <thead>\n",
       "    <tr style=\"text-align: right;\">\n",
       "      <th>loyalty_flag</th>\n",
       "      <th>Loyal customer</th>\n",
       "      <th>New customer</th>\n",
       "      <th>Regular customer</th>\n",
       "    </tr>\n",
       "    <tr>\n",
       "      <th>customer_profile</th>\n",
       "      <th></th>\n",
       "      <th></th>\n",
       "      <th></th>\n",
       "    </tr>\n",
       "  </thead>\n",
       "  <tbody>\n",
       "    <tr>\n",
       "      <th>high-income, adult</th>\n",
       "      <td>0.395211</td>\n",
       "      <td>0.085523</td>\n",
       "      <td>0.519266</td>\n",
       "    </tr>\n",
       "    <tr>\n",
       "      <th>high-income, senior</th>\n",
       "      <td>0.390132</td>\n",
       "      <td>0.089207</td>\n",
       "      <td>0.520661</td>\n",
       "    </tr>\n",
       "    <tr>\n",
       "      <th>high-income, young adult</th>\n",
       "      <td>0.560988</td>\n",
       "      <td>0.051038</td>\n",
       "      <td>0.387974</td>\n",
       "    </tr>\n",
       "    <tr>\n",
       "      <th>low-income, adult</th>\n",
       "      <td>0.392594</td>\n",
       "      <td>0.095269</td>\n",
       "      <td>0.512137</td>\n",
       "    </tr>\n",
       "    <tr>\n",
       "      <th>low-income, senior</th>\n",
       "      <td>0.368379</td>\n",
       "      <td>0.098913</td>\n",
       "      <td>0.532708</td>\n",
       "    </tr>\n",
       "    <tr>\n",
       "      <th>low-income, young adult</th>\n",
       "      <td>0.361817</td>\n",
       "      <td>0.089177</td>\n",
       "      <td>0.549006</td>\n",
       "    </tr>\n",
       "    <tr>\n",
       "      <th>lower-middle income, adult</th>\n",
       "      <td>0.415727</td>\n",
       "      <td>0.083146</td>\n",
       "      <td>0.501127</td>\n",
       "    </tr>\n",
       "    <tr>\n",
       "      <th>lower-middle income, senior</th>\n",
       "      <td>0.379040</td>\n",
       "      <td>0.081216</td>\n",
       "      <td>0.539744</td>\n",
       "    </tr>\n",
       "    <tr>\n",
       "      <th>lower-middle income, young adult</th>\n",
       "      <td>0.379129</td>\n",
       "      <td>0.081746</td>\n",
       "      <td>0.539125</td>\n",
       "    </tr>\n",
       "    <tr>\n",
       "      <th>upper-middle income, adult</th>\n",
       "      <td>0.426340</td>\n",
       "      <td>0.081012</td>\n",
       "      <td>0.492648</td>\n",
       "    </tr>\n",
       "    <tr>\n",
       "      <th>upper-middle income, senior</th>\n",
       "      <td>0.392006</td>\n",
       "      <td>0.089340</td>\n",
       "      <td>0.518654</td>\n",
       "    </tr>\n",
       "    <tr>\n",
       "      <th>upper-middle income, young adult</th>\n",
       "      <td>0.378030</td>\n",
       "      <td>0.082490</td>\n",
       "      <td>0.539480</td>\n",
       "    </tr>\n",
       "  </tbody>\n",
       "</table>\n",
       "</div>"
      ],
      "text/plain": [
       "loyalty_flag                      Loyal customer  New customer  \\\n",
       "customer_profile                                                 \n",
       "high-income, adult                      0.395211      0.085523   \n",
       "high-income, senior                     0.390132      0.089207   \n",
       "high-income, young adult                0.560988      0.051038   \n",
       "low-income, adult                       0.392594      0.095269   \n",
       "low-income, senior                      0.368379      0.098913   \n",
       "low-income, young adult                 0.361817      0.089177   \n",
       "lower-middle income, adult              0.415727      0.083146   \n",
       "lower-middle income, senior             0.379040      0.081216   \n",
       "lower-middle income, young adult        0.379129      0.081746   \n",
       "upper-middle income, adult              0.426340      0.081012   \n",
       "upper-middle income, senior             0.392006      0.089340   \n",
       "upper-middle income, young adult        0.378030      0.082490   \n",
       "\n",
       "loyalty_flag                      Regular customer  \n",
       "customer_profile                                    \n",
       "high-income, adult                        0.519266  \n",
       "high-income, senior                       0.520661  \n",
       "high-income, young adult                  0.387974  \n",
       "low-income, adult                         0.512137  \n",
       "low-income, senior                        0.532708  \n",
       "low-income, young adult                   0.549006  \n",
       "lower-middle income, adult                0.501127  \n",
       "lower-middle income, senior               0.539744  \n",
       "lower-middle income, young adult          0.539125  \n",
       "upper-middle income, adult                0.492648  \n",
       "upper-middle income, senior               0.518654  \n",
       "upper-middle income, young adult          0.539480  "
      ]
     },
     "execution_count": 321,
     "metadata": {},
     "output_type": "execute_result"
    }
   ],
   "source": [
    "# brand loyalty by customer profile\n",
    "wt_brand = pd.crosstab(df_wt['customer_profile'], df_wt['loyalty_flag'], normalize = 'index')\n",
    "wt_brand"
   ]
  },
  {
   "cell_type": "markdown",
   "id": "2c57d9b9",
   "metadata": {},
   "source": [
    "#### 8.4.5. Product preferences"
   ]
  },
  {
   "cell_type": "code",
   "execution_count": 322,
   "id": "fb0ed554",
   "metadata": {},
   "outputs": [
    {
     "data": {
      "text/plain": [
       "department_id\n",
       "4     1852659\n",
       "16    1056814\n",
       "19     563273\n",
       "7      515742\n",
       "1      417452\n",
       "Name: count, dtype: int64"
      ]
     },
     "execution_count": 322,
     "metadata": {},
     "output_type": "execute_result"
    }
   ],
   "source": [
    "# region highest frequency departments\n",
    "df_wt['department_id'].value_counts(dropna = False).head(5)"
   ]
  },
  {
   "cell_type": "code",
   "execution_count": 323,
   "id": "003359bc",
   "metadata": {},
   "outputs": [
    {
     "data": {
      "text/plain": [
       "product_name\n",
       "Banana                    91345\n",
       "Bag of Organic Bananas    78451\n",
       "Organic Strawberries      51849\n",
       "Organic Baby Spinach      47366\n",
       "Organic Hass Avocado      45222\n",
       "Organic Avocado           31285\n",
       "Large Lemon               29885\n",
       "Organic Raspberries       28396\n",
       "Organic Whole Milk        27969\n",
       "Strawberries              27954\n",
       "Name: count, dtype: int64"
      ]
     },
     "execution_count": 323,
     "metadata": {},
     "output_type": "execute_result"
    }
   ],
   "source": [
    "# most popular products\n",
    "df_wt['product_name'].value_counts(dropna=False).head(10)\n"
   ]
  },
  {
   "cell_type": "code",
   "execution_count": 324,
   "id": "77f4f257",
   "metadata": {},
   "outputs": [
    {
     "data": {
      "text/plain": [
       "product_name\n",
       "Thai Lager Beer                                1\n",
       "Naan Crisps Original                           1\n",
       "Jersey Milk Organic Whole Yogurt               1\n",
       "Swiss Sliced Cheese                            1\n",
       "Organic Wasabi Seasoning                       1\n",
       "Gourmet Baking Cocoa                           1\n",
       "Antibacterial Moisturizing Hand Soap Refill    1\n",
       "The Very Finest Fish Oil Lemon Flavor          1\n",
       "Organic Bluberries                             1\n",
       "Chili Lime Seaweed Chips                       1\n",
       "Name: count, dtype: int64"
      ]
     },
     "execution_count": 324,
     "metadata": {},
     "output_type": "execute_result"
    }
   ],
   "source": [
    "# least popular products\n",
    "df_wt['product_name'].value_counts(dropna=False).tail(10)"
   ]
  },
  {
   "cell_type": "code",
   "execution_count": 330,
   "id": "1d2858b6",
   "metadata": {},
   "outputs": [],
   "source": [
    "# Export whole dataframe for the next part of the code\n",
    "df.to_pickle(os.path.join(path, '02 Data' , 'Prepared Data' , 'df_chunk2.pkl'))"
   ]
  },
  {
   "cell_type": "markdown",
   "id": "d5647a07",
   "metadata": {},
   "source": [
    "Visualization continues on next chunk..."
   ]
  }
 ],
 "metadata": {
  "kernelspec": {
   "display_name": "Python 3 (ipykernel)",
   "language": "python",
   "name": "python3"
  },
  "language_info": {
   "codemirror_mode": {
    "name": "ipython",
    "version": 3
   },
   "file_extension": ".py",
   "mimetype": "text/x-python",
   "name": "python",
   "nbconvert_exporter": "python",
   "pygments_lexer": "ipython3",
   "version": "3.11.5"
  }
 },
 "nbformat": 4,
 "nbformat_minor": 5
}
